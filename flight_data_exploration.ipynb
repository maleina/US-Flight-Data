{
 "cells": [
  {
   "cell_type": "markdown",
   "metadata": {},
   "source": [
    "# Flights in the United States: 2004 - 2008\n",
    "## by Maleina Bidek\n",
    "\n",
    "## Preliminary Wrangling\n",
    "\n",
    "In this notebook, we will be exploring a dataset that contains flight arrival and departure details for all commercial flights within the United States, including whether or not flights were delayed or cancelled and what the reason was. The data set is from the American Statistical Society and can be found [here.](https://community.amstat.org/jointscsg-section/dataexpo/dataexpo2009) While the original set contains data from October 1987 to December 2008, in this analysis, we will specifically be exploring data over the five year period from 2004 through 2008.\n",
    "\n",
    "*Note that while the data set's home page says that it contains records through April 2008, we have seen that it actually contains records through December 2008.*"
   ]
  },
  {
   "cell_type": "code",
   "execution_count": 1,
   "metadata": {},
   "outputs": [],
   "source": [
    "# import all packages and set plots to be embedded inline\n",
    "import numpy as np\n",
    "import pandas as pd\n",
    "import matplotlib.pyplot as plt\n",
    "import seaborn as sb\n",
    "\n",
    "%matplotlib inline"
   ]
  },
  {
   "cell_type": "markdown",
   "metadata": {},
   "source": [
    "The first thing we need to do is load in our datasets. Each is contained in a .csv file that has been compressed. Because all of the files are structed identically, i.e. they all have the same columns and data types, we can import them sucessively and append them to the same dataframe for further inspection. These sets are quite large, so this could take a while!"
   ]
  },
  {
   "cell_type": "code",
   "execution_count": 2,
   "metadata": {
    "scrolled": true
   },
   "outputs": [
    {
     "name": "stdout",
     "output_type": "stream",
     "text": [
      "Loading 2008 data...\n",
      "Loading complete!\n"
     ]
    }
   ],
   "source": [
    "# # Read in first data set \n",
    "# print(\"Loading 2004 data...\")\n",
    "# df_flights = pd.read_csv('data/2004.csv.bz2',compression='bz2')\n",
    "\n",
    "# # Construct list of successive years that need to be imported\n",
    "# years = np.arange(2005, 2009, 1)\n",
    "\n",
    "# # Loop through remaining years\n",
    "# for year in years:\n",
    "#     # Because loading may take a while, print which dataset we're loading\n",
    "#     print(\"Loading \" + year.astype(str) + \" data...\")\n",
    "#     filename = \"data/\" + year.astype(str) + \".csv.bz2\"\n",
    "#     df_temp = pd.read_csv(filename, compression='bz2')\n",
    "#     df_flights = df_flights.append(df_temp)\n",
    "    \n",
    "print(\"Loading 2008 data...\")\n",
    "df_flights = pd.read_csv('data/2008.csv.bz2',compression='bz2')\n",
    "\n",
    "print(\"Loading complete!\")"
   ]
  },
  {
   "cell_type": "markdown",
   "metadata": {},
   "source": [
    "Next, we'll check to see if we have issues with our data that require cleaning. First, however, let's check the size of our dataset."
   ]
  },
  {
   "cell_type": "code",
   "execution_count": 3,
   "metadata": {
    "scrolled": false
   },
   "outputs": [
    {
     "data": {
      "text/plain": [
       "(7009728, 29)"
      ]
     },
     "execution_count": 3,
     "metadata": {},
     "output_type": "execute_result"
    }
   ],
   "source": [
    "df_flights.shape"
   ]
  },
  {
   "cell_type": "markdown",
   "metadata": {},
   "source": [
    "We have over 35 million rows and 29 columns. This is a huge set! One of the things we'll need to explore is paring down the set so that computations take less time. Let's do a quick visual check on the set first. Again, since we haven't pared down our set, this could take a little while."
   ]
  },
  {
   "cell_type": "code",
   "execution_count": 4,
   "metadata": {
    "scrolled": true
   },
   "outputs": [
    {
     "data": {
      "text/html": [
       "<div>\n",
       "<style scoped>\n",
       "    .dataframe tbody tr th:only-of-type {\n",
       "        vertical-align: middle;\n",
       "    }\n",
       "\n",
       "    .dataframe tbody tr th {\n",
       "        vertical-align: top;\n",
       "    }\n",
       "\n",
       "    .dataframe thead th {\n",
       "        text-align: right;\n",
       "    }\n",
       "</style>\n",
       "<table border=\"1\" class=\"dataframe\">\n",
       "  <thead>\n",
       "    <tr style=\"text-align: right;\">\n",
       "      <th></th>\n",
       "      <th>Year</th>\n",
       "      <th>Month</th>\n",
       "      <th>DayofMonth</th>\n",
       "      <th>DayOfWeek</th>\n",
       "      <th>DepTime</th>\n",
       "      <th>CRSDepTime</th>\n",
       "      <th>ArrTime</th>\n",
       "      <th>CRSArrTime</th>\n",
       "      <th>UniqueCarrier</th>\n",
       "      <th>FlightNum</th>\n",
       "      <th>...</th>\n",
       "      <th>TaxiIn</th>\n",
       "      <th>TaxiOut</th>\n",
       "      <th>Cancelled</th>\n",
       "      <th>CancellationCode</th>\n",
       "      <th>Diverted</th>\n",
       "      <th>CarrierDelay</th>\n",
       "      <th>WeatherDelay</th>\n",
       "      <th>NASDelay</th>\n",
       "      <th>SecurityDelay</th>\n",
       "      <th>LateAircraftDelay</th>\n",
       "    </tr>\n",
       "  </thead>\n",
       "  <tbody>\n",
       "    <tr>\n",
       "      <th>0</th>\n",
       "      <td>2008</td>\n",
       "      <td>1</td>\n",
       "      <td>3</td>\n",
       "      <td>4</td>\n",
       "      <td>2003.0</td>\n",
       "      <td>1955</td>\n",
       "      <td>2211.0</td>\n",
       "      <td>2225</td>\n",
       "      <td>WN</td>\n",
       "      <td>335</td>\n",
       "      <td>...</td>\n",
       "      <td>4.0</td>\n",
       "      <td>8.0</td>\n",
       "      <td>0</td>\n",
       "      <td>NaN</td>\n",
       "      <td>0</td>\n",
       "      <td>NaN</td>\n",
       "      <td>NaN</td>\n",
       "      <td>NaN</td>\n",
       "      <td>NaN</td>\n",
       "      <td>NaN</td>\n",
       "    </tr>\n",
       "    <tr>\n",
       "      <th>1</th>\n",
       "      <td>2008</td>\n",
       "      <td>1</td>\n",
       "      <td>3</td>\n",
       "      <td>4</td>\n",
       "      <td>754.0</td>\n",
       "      <td>735</td>\n",
       "      <td>1002.0</td>\n",
       "      <td>1000</td>\n",
       "      <td>WN</td>\n",
       "      <td>3231</td>\n",
       "      <td>...</td>\n",
       "      <td>5.0</td>\n",
       "      <td>10.0</td>\n",
       "      <td>0</td>\n",
       "      <td>NaN</td>\n",
       "      <td>0</td>\n",
       "      <td>NaN</td>\n",
       "      <td>NaN</td>\n",
       "      <td>NaN</td>\n",
       "      <td>NaN</td>\n",
       "      <td>NaN</td>\n",
       "    </tr>\n",
       "    <tr>\n",
       "      <th>2</th>\n",
       "      <td>2008</td>\n",
       "      <td>1</td>\n",
       "      <td>3</td>\n",
       "      <td>4</td>\n",
       "      <td>628.0</td>\n",
       "      <td>620</td>\n",
       "      <td>804.0</td>\n",
       "      <td>750</td>\n",
       "      <td>WN</td>\n",
       "      <td>448</td>\n",
       "      <td>...</td>\n",
       "      <td>3.0</td>\n",
       "      <td>17.0</td>\n",
       "      <td>0</td>\n",
       "      <td>NaN</td>\n",
       "      <td>0</td>\n",
       "      <td>NaN</td>\n",
       "      <td>NaN</td>\n",
       "      <td>NaN</td>\n",
       "      <td>NaN</td>\n",
       "      <td>NaN</td>\n",
       "    </tr>\n",
       "    <tr>\n",
       "      <th>3</th>\n",
       "      <td>2008</td>\n",
       "      <td>1</td>\n",
       "      <td>3</td>\n",
       "      <td>4</td>\n",
       "      <td>926.0</td>\n",
       "      <td>930</td>\n",
       "      <td>1054.0</td>\n",
       "      <td>1100</td>\n",
       "      <td>WN</td>\n",
       "      <td>1746</td>\n",
       "      <td>...</td>\n",
       "      <td>3.0</td>\n",
       "      <td>7.0</td>\n",
       "      <td>0</td>\n",
       "      <td>NaN</td>\n",
       "      <td>0</td>\n",
       "      <td>NaN</td>\n",
       "      <td>NaN</td>\n",
       "      <td>NaN</td>\n",
       "      <td>NaN</td>\n",
       "      <td>NaN</td>\n",
       "    </tr>\n",
       "    <tr>\n",
       "      <th>4</th>\n",
       "      <td>2008</td>\n",
       "      <td>1</td>\n",
       "      <td>3</td>\n",
       "      <td>4</td>\n",
       "      <td>1829.0</td>\n",
       "      <td>1755</td>\n",
       "      <td>1959.0</td>\n",
       "      <td>1925</td>\n",
       "      <td>WN</td>\n",
       "      <td>3920</td>\n",
       "      <td>...</td>\n",
       "      <td>3.0</td>\n",
       "      <td>10.0</td>\n",
       "      <td>0</td>\n",
       "      <td>NaN</td>\n",
       "      <td>0</td>\n",
       "      <td>2.0</td>\n",
       "      <td>0.0</td>\n",
       "      <td>0.0</td>\n",
       "      <td>0.0</td>\n",
       "      <td>32.0</td>\n",
       "    </tr>\n",
       "    <tr>\n",
       "      <th>...</th>\n",
       "      <td>...</td>\n",
       "      <td>...</td>\n",
       "      <td>...</td>\n",
       "      <td>...</td>\n",
       "      <td>...</td>\n",
       "      <td>...</td>\n",
       "      <td>...</td>\n",
       "      <td>...</td>\n",
       "      <td>...</td>\n",
       "      <td>...</td>\n",
       "      <td>...</td>\n",
       "      <td>...</td>\n",
       "      <td>...</td>\n",
       "      <td>...</td>\n",
       "      <td>...</td>\n",
       "      <td>...</td>\n",
       "      <td>...</td>\n",
       "      <td>...</td>\n",
       "      <td>...</td>\n",
       "      <td>...</td>\n",
       "      <td>...</td>\n",
       "    </tr>\n",
       "    <tr>\n",
       "      <th>7009723</th>\n",
       "      <td>2008</td>\n",
       "      <td>12</td>\n",
       "      <td>13</td>\n",
       "      <td>6</td>\n",
       "      <td>1002.0</td>\n",
       "      <td>959</td>\n",
       "      <td>1204.0</td>\n",
       "      <td>1150</td>\n",
       "      <td>DL</td>\n",
       "      <td>1636</td>\n",
       "      <td>...</td>\n",
       "      <td>6.0</td>\n",
       "      <td>45.0</td>\n",
       "      <td>0</td>\n",
       "      <td>NaN</td>\n",
       "      <td>0</td>\n",
       "      <td>NaN</td>\n",
       "      <td>NaN</td>\n",
       "      <td>NaN</td>\n",
       "      <td>NaN</td>\n",
       "      <td>NaN</td>\n",
       "    </tr>\n",
       "    <tr>\n",
       "      <th>7009724</th>\n",
       "      <td>2008</td>\n",
       "      <td>12</td>\n",
       "      <td>13</td>\n",
       "      <td>6</td>\n",
       "      <td>834.0</td>\n",
       "      <td>835</td>\n",
       "      <td>1021.0</td>\n",
       "      <td>1023</td>\n",
       "      <td>DL</td>\n",
       "      <td>1637</td>\n",
       "      <td>...</td>\n",
       "      <td>5.0</td>\n",
       "      <td>23.0</td>\n",
       "      <td>0</td>\n",
       "      <td>NaN</td>\n",
       "      <td>0</td>\n",
       "      <td>NaN</td>\n",
       "      <td>NaN</td>\n",
       "      <td>NaN</td>\n",
       "      <td>NaN</td>\n",
       "      <td>NaN</td>\n",
       "    </tr>\n",
       "    <tr>\n",
       "      <th>7009725</th>\n",
       "      <td>2008</td>\n",
       "      <td>12</td>\n",
       "      <td>13</td>\n",
       "      <td>6</td>\n",
       "      <td>655.0</td>\n",
       "      <td>700</td>\n",
       "      <td>856.0</td>\n",
       "      <td>856</td>\n",
       "      <td>DL</td>\n",
       "      <td>1638</td>\n",
       "      <td>...</td>\n",
       "      <td>24.0</td>\n",
       "      <td>12.0</td>\n",
       "      <td>0</td>\n",
       "      <td>NaN</td>\n",
       "      <td>0</td>\n",
       "      <td>NaN</td>\n",
       "      <td>NaN</td>\n",
       "      <td>NaN</td>\n",
       "      <td>NaN</td>\n",
       "      <td>NaN</td>\n",
       "    </tr>\n",
       "    <tr>\n",
       "      <th>7009726</th>\n",
       "      <td>2008</td>\n",
       "      <td>12</td>\n",
       "      <td>13</td>\n",
       "      <td>6</td>\n",
       "      <td>1251.0</td>\n",
       "      <td>1240</td>\n",
       "      <td>1446.0</td>\n",
       "      <td>1437</td>\n",
       "      <td>DL</td>\n",
       "      <td>1639</td>\n",
       "      <td>...</td>\n",
       "      <td>13.0</td>\n",
       "      <td>13.0</td>\n",
       "      <td>0</td>\n",
       "      <td>NaN</td>\n",
       "      <td>0</td>\n",
       "      <td>NaN</td>\n",
       "      <td>NaN</td>\n",
       "      <td>NaN</td>\n",
       "      <td>NaN</td>\n",
       "      <td>NaN</td>\n",
       "    </tr>\n",
       "    <tr>\n",
       "      <th>7009727</th>\n",
       "      <td>2008</td>\n",
       "      <td>12</td>\n",
       "      <td>13</td>\n",
       "      <td>6</td>\n",
       "      <td>1110.0</td>\n",
       "      <td>1103</td>\n",
       "      <td>1413.0</td>\n",
       "      <td>1418</td>\n",
       "      <td>DL</td>\n",
       "      <td>1641</td>\n",
       "      <td>...</td>\n",
       "      <td>8.0</td>\n",
       "      <td>11.0</td>\n",
       "      <td>0</td>\n",
       "      <td>NaN</td>\n",
       "      <td>0</td>\n",
       "      <td>NaN</td>\n",
       "      <td>NaN</td>\n",
       "      <td>NaN</td>\n",
       "      <td>NaN</td>\n",
       "      <td>NaN</td>\n",
       "    </tr>\n",
       "  </tbody>\n",
       "</table>\n",
       "<p>7009728 rows × 29 columns</p>\n",
       "</div>"
      ],
      "text/plain": [
       "         Year  Month  DayofMonth  DayOfWeek  DepTime  CRSDepTime  ArrTime  \\\n",
       "0        2008      1           3          4   2003.0        1955   2211.0   \n",
       "1        2008      1           3          4    754.0         735   1002.0   \n",
       "2        2008      1           3          4    628.0         620    804.0   \n",
       "3        2008      1           3          4    926.0         930   1054.0   \n",
       "4        2008      1           3          4   1829.0        1755   1959.0   \n",
       "...       ...    ...         ...        ...      ...         ...      ...   \n",
       "7009723  2008     12          13          6   1002.0         959   1204.0   \n",
       "7009724  2008     12          13          6    834.0         835   1021.0   \n",
       "7009725  2008     12          13          6    655.0         700    856.0   \n",
       "7009726  2008     12          13          6   1251.0        1240   1446.0   \n",
       "7009727  2008     12          13          6   1110.0        1103   1413.0   \n",
       "\n",
       "         CRSArrTime UniqueCarrier  FlightNum  ... TaxiIn  TaxiOut  Cancelled  \\\n",
       "0              2225            WN        335  ...    4.0      8.0          0   \n",
       "1              1000            WN       3231  ...    5.0     10.0          0   \n",
       "2               750            WN        448  ...    3.0     17.0          0   \n",
       "3              1100            WN       1746  ...    3.0      7.0          0   \n",
       "4              1925            WN       3920  ...    3.0     10.0          0   \n",
       "...             ...           ...        ...  ...    ...      ...        ...   \n",
       "7009723        1150            DL       1636  ...    6.0     45.0          0   \n",
       "7009724        1023            DL       1637  ...    5.0     23.0          0   \n",
       "7009725         856            DL       1638  ...   24.0     12.0          0   \n",
       "7009726        1437            DL       1639  ...   13.0     13.0          0   \n",
       "7009727        1418            DL       1641  ...    8.0     11.0          0   \n",
       "\n",
       "         CancellationCode  Diverted  CarrierDelay WeatherDelay NASDelay  \\\n",
       "0                     NaN         0           NaN          NaN      NaN   \n",
       "1                     NaN         0           NaN          NaN      NaN   \n",
       "2                     NaN         0           NaN          NaN      NaN   \n",
       "3                     NaN         0           NaN          NaN      NaN   \n",
       "4                     NaN         0           2.0          0.0      0.0   \n",
       "...                   ...       ...           ...          ...      ...   \n",
       "7009723               NaN         0           NaN          NaN      NaN   \n",
       "7009724               NaN         0           NaN          NaN      NaN   \n",
       "7009725               NaN         0           NaN          NaN      NaN   \n",
       "7009726               NaN         0           NaN          NaN      NaN   \n",
       "7009727               NaN         0           NaN          NaN      NaN   \n",
       "\n",
       "         SecurityDelay  LateAircraftDelay  \n",
       "0                  NaN                NaN  \n",
       "1                  NaN                NaN  \n",
       "2                  NaN                NaN  \n",
       "3                  NaN                NaN  \n",
       "4                  0.0               32.0  \n",
       "...                ...                ...  \n",
       "7009723            NaN                NaN  \n",
       "7009724            NaN                NaN  \n",
       "7009725            NaN                NaN  \n",
       "7009726            NaN                NaN  \n",
       "7009727            NaN                NaN  \n",
       "\n",
       "[7009728 rows x 29 columns]"
      ]
     },
     "execution_count": 4,
     "metadata": {},
     "output_type": "execute_result"
    }
   ],
   "source": [
    "df_flights"
   ]
  },
  {
   "cell_type": "markdown",
   "metadata": {},
   "source": [
    "One of the first things that sticks out is that `Year`, `Month` and `DayofMonth` could be combined into a single date field. However, because we don't anticipate conducting a time series analysis, i.e. plotting flight information over time, it actually will be more useful to have these columns separated. This will make it easier for us to aggregate over months or days of the week, for example.\n",
    "\n",
    "There are also a number of fields that we don't need: `DepTime`, `ArrTime`, `TailNum`, `ActualElapsedTime`, `CRSElapsedTime`, `AirTime`, `Distance`, `TaxiIn`, `TaxiOut`. We can remove these.\n",
    "\n",
    "`CarrierDelay`, `WeatherDelay`, `NASDelay`, `SecurityDelay`, and `LateArrCraftDelay` are columns that are supposed to represent the amount of time spent on that particular type of delay. They are not mutually exclusive: It is possible to have an amount listed in more than one of these columns for the same flight. Note that in this report I generally refer to them as the 'delay reason' columns. Given that we already see that there are null values in some of these fields, we'll want to explore further what to do with these columns.\n",
    "\n",
    "Because this set is so large, we will first remove the columns that we won't be using. However, just before we start modifying the dataframe, we'll save a new copy."
   ]
  },
  {
   "cell_type": "code",
   "execution_count": 5,
   "metadata": {},
   "outputs": [],
   "source": [
    "# Remove unneeded columns\n",
    "df_flights.drop(['DepTime', 'ArrTime', 'TailNum', 'ActualElapsedTime', \n",
    "                 'CRSElapsedTime', 'AirTime', 'Distance', 'TaxiIn', 'TaxiOut'], \n",
    "                axis=1, inplace=True)"
   ]
  },
  {
   "cell_type": "code",
   "execution_count": 6,
   "metadata": {
    "scrolled": true
   },
   "outputs": [
    {
     "data": {
      "text/plain": [
       "Index(['Year', 'Month', 'DayofMonth', 'DayOfWeek', 'CRSDepTime', 'CRSArrTime',\n",
       "       'UniqueCarrier', 'FlightNum', 'ArrDelay', 'DepDelay', 'Origin', 'Dest',\n",
       "       'Cancelled', 'CancellationCode', 'Diverted', 'CarrierDelay',\n",
       "       'WeatherDelay', 'NASDelay', 'SecurityDelay', 'LateAircraftDelay'],\n",
       "      dtype='object')"
      ]
     },
     "execution_count": 6,
     "metadata": {},
     "output_type": "execute_result"
    }
   ],
   "source": [
    "# Ensure that columns have been removed.\n",
    "df_flights.columns"
   ]
  },
  {
   "cell_type": "markdown",
   "metadata": {},
   "source": [
    "Let's check our data types next, noting that we'll want to reduce unnessary storage where possible."
   ]
  },
  {
   "cell_type": "code",
   "execution_count": 7,
   "metadata": {
    "scrolled": false
   },
   "outputs": [
    {
     "name": "stdout",
     "output_type": "stream",
     "text": [
      "<class 'pandas.core.frame.DataFrame'>\n",
      "RangeIndex: 7009728 entries, 0 to 7009727\n",
      "Data columns (total 20 columns):\n",
      " #   Column             Dtype  \n",
      "---  ------             -----  \n",
      " 0   Year               int64  \n",
      " 1   Month              int64  \n",
      " 2   DayofMonth         int64  \n",
      " 3   DayOfWeek          int64  \n",
      " 4   CRSDepTime         int64  \n",
      " 5   CRSArrTime         int64  \n",
      " 6   UniqueCarrier      object \n",
      " 7   FlightNum          int64  \n",
      " 8   ArrDelay           float64\n",
      " 9   DepDelay           float64\n",
      " 10  Origin             object \n",
      " 11  Dest               object \n",
      " 12  Cancelled          int64  \n",
      " 13  CancellationCode   object \n",
      " 14  Diverted           int64  \n",
      " 15  CarrierDelay       float64\n",
      " 16  WeatherDelay       float64\n",
      " 17  NASDelay           float64\n",
      " 18  SecurityDelay      float64\n",
      " 19  LateAircraftDelay  float64\n",
      "dtypes: float64(7), int64(9), object(4)\n",
      "memory usage: 1.0+ GB\n"
     ]
    }
   ],
   "source": [
    "df_flights.info()"
   ]
  },
  {
   "cell_type": "markdown",
   "metadata": {},
   "source": [
    "Some data types are incorrect. `CRSDepTime` and `CRSArrTime` should be converted to time. `Diverted` and `Cancelled` appear to use 1 for yes and 0 for no and could easily be converted to the more useful Boolean type.  Before we do that let's double check that `Diverted` and `Cancelled` have only the values of 1 (yes) and 0 (no)."
   ]
  },
  {
   "cell_type": "code",
   "execution_count": 8,
   "metadata": {
    "scrolled": true
   },
   "outputs": [
    {
     "data": {
      "text/plain": [
       "0    6992463\n",
       "1      17265\n",
       "Name: Diverted, dtype: int64"
      ]
     },
     "execution_count": 8,
     "metadata": {},
     "output_type": "execute_result"
    }
   ],
   "source": [
    "df_flights['Diverted'].value_counts()"
   ]
  },
  {
   "cell_type": "code",
   "execution_count": 9,
   "metadata": {},
   "outputs": [
    {
     "data": {
      "text/plain": [
       "0    6872294\n",
       "1     137434\n",
       "Name: Cancelled, dtype: int64"
      ]
     },
     "execution_count": 9,
     "metadata": {},
     "output_type": "execute_result"
    }
   ],
   "source": [
    "df_flights['Cancelled'].value_counts()"
   ]
  },
  {
   "cell_type": "markdown",
   "metadata": {},
   "source": [
    "We can see that these two colums have no other values besides zero and one which means that they can easily be converted."
   ]
  },
  {
   "cell_type": "markdown",
   "metadata": {},
   "source": [
    "Before we can fix any of our data types, we'll need to check for nulls, as the presence of these could prevent the converstion. Due to the size of our set, this information wasn't present when we called the info() fuction. We'll have to check explicitly."
   ]
  },
  {
   "cell_type": "code",
   "execution_count": 10,
   "metadata": {},
   "outputs": [
    {
     "name": "stdout",
     "output_type": "stream",
     "text": [
      "Year: 0\n",
      "Month: 0\n",
      "DayofMonth: 0\n",
      "DayOfWeek: 0\n",
      "CRSDepTime: 0\n",
      "CRSArrTime: 0\n",
      "UniqueCarrier: 0\n",
      "FlightNum: 0\n",
      "ArrDelay: 154699\n",
      "DepDelay: 136246\n",
      "Origin: 0\n",
      "Dest: 0\n",
      "Cancelled: 0\n",
      "CancellationCode: 6872294\n",
      "Diverted: 0\n",
      "CarrierDelay: 5484993\n",
      "WeatherDelay: 5484993\n",
      "NASDelay: 5484993\n",
      "SecurityDelay: 5484993\n",
      "LateAircraftDelay: 5484993\n"
     ]
    }
   ],
   "source": [
    "# Search all columns for nulls and print the number of them.\n",
    "for row in df_flights.columns:\n",
    "    print('{}: {}'.format(row, sum(df_flights[row].isna())))"
   ]
  },
  {
   "cell_type": "markdown",
   "metadata": {},
   "source": [
    "We will need to investigate the nulls in the `ArrDelay`, `DepDelay`, `CancellationCode`, `CarrierDelay`, `WeatherDelay`, `NASDelay`, `SecurityDelay`, and `LateAircraftDelay` columns.\n",
    "\n",
    "Let's explore `ArrDelay` and `DepDelay` first."
   ]
  },
  {
   "cell_type": "code",
   "execution_count": 11,
   "metadata": {
    "scrolled": true
   },
   "outputs": [
    {
     "data": {
      "text/html": [
       "<div>\n",
       "<style scoped>\n",
       "    .dataframe tbody tr th:only-of-type {\n",
       "        vertical-align: middle;\n",
       "    }\n",
       "\n",
       "    .dataframe tbody tr th {\n",
       "        vertical-align: top;\n",
       "    }\n",
       "\n",
       "    .dataframe thead th {\n",
       "        text-align: right;\n",
       "    }\n",
       "</style>\n",
       "<table border=\"1\" class=\"dataframe\">\n",
       "  <thead>\n",
       "    <tr style=\"text-align: right;\">\n",
       "      <th></th>\n",
       "      <th>Year</th>\n",
       "      <th>Month</th>\n",
       "      <th>DayofMonth</th>\n",
       "      <th>DayOfWeek</th>\n",
       "      <th>CRSDepTime</th>\n",
       "      <th>CRSArrTime</th>\n",
       "      <th>UniqueCarrier</th>\n",
       "      <th>FlightNum</th>\n",
       "      <th>ArrDelay</th>\n",
       "      <th>DepDelay</th>\n",
       "      <th>Origin</th>\n",
       "      <th>Dest</th>\n",
       "      <th>Cancelled</th>\n",
       "      <th>CancellationCode</th>\n",
       "      <th>Diverted</th>\n",
       "      <th>CarrierDelay</th>\n",
       "      <th>WeatherDelay</th>\n",
       "      <th>NASDelay</th>\n",
       "      <th>SecurityDelay</th>\n",
       "      <th>LateAircraftDelay</th>\n",
       "    </tr>\n",
       "  </thead>\n",
       "  <tbody>\n",
       "    <tr>\n",
       "      <th>178</th>\n",
       "      <td>2008</td>\n",
       "      <td>1</td>\n",
       "      <td>3</td>\n",
       "      <td>4</td>\n",
       "      <td>700</td>\n",
       "      <td>830</td>\n",
       "      <td>WN</td>\n",
       "      <td>126</td>\n",
       "      <td>NaN</td>\n",
       "      <td>NaN</td>\n",
       "      <td>LAS</td>\n",
       "      <td>OAK</td>\n",
       "      <td>1</td>\n",
       "      <td>A</td>\n",
       "      <td>0</td>\n",
       "      <td>NaN</td>\n",
       "      <td>NaN</td>\n",
       "      <td>NaN</td>\n",
       "      <td>NaN</td>\n",
       "      <td>NaN</td>\n",
       "    </tr>\n",
       "    <tr>\n",
       "      <th>373</th>\n",
       "      <td>2008</td>\n",
       "      <td>1</td>\n",
       "      <td>3</td>\n",
       "      <td>4</td>\n",
       "      <td>1100</td>\n",
       "      <td>1215</td>\n",
       "      <td>WN</td>\n",
       "      <td>1146</td>\n",
       "      <td>NaN</td>\n",
       "      <td>NaN</td>\n",
       "      <td>LAX</td>\n",
       "      <td>OAK</td>\n",
       "      <td>1</td>\n",
       "      <td>A</td>\n",
       "      <td>0</td>\n",
       "      <td>NaN</td>\n",
       "      <td>NaN</td>\n",
       "      <td>NaN</td>\n",
       "      <td>NaN</td>\n",
       "      <td>NaN</td>\n",
       "    </tr>\n",
       "    <tr>\n",
       "      <th>399</th>\n",
       "      <td>2008</td>\n",
       "      <td>1</td>\n",
       "      <td>3</td>\n",
       "      <td>4</td>\n",
       "      <td>905</td>\n",
       "      <td>1025</td>\n",
       "      <td>WN</td>\n",
       "      <td>469</td>\n",
       "      <td>NaN</td>\n",
       "      <td>NaN</td>\n",
       "      <td>LAX</td>\n",
       "      <td>SFO</td>\n",
       "      <td>1</td>\n",
       "      <td>A</td>\n",
       "      <td>0</td>\n",
       "      <td>NaN</td>\n",
       "      <td>NaN</td>\n",
       "      <td>NaN</td>\n",
       "      <td>NaN</td>\n",
       "      <td>NaN</td>\n",
       "    </tr>\n",
       "    <tr>\n",
       "      <th>401</th>\n",
       "      <td>2008</td>\n",
       "      <td>1</td>\n",
       "      <td>3</td>\n",
       "      <td>4</td>\n",
       "      <td>1620</td>\n",
       "      <td>1740</td>\n",
       "      <td>WN</td>\n",
       "      <td>618</td>\n",
       "      <td>NaN</td>\n",
       "      <td>NaN</td>\n",
       "      <td>LAX</td>\n",
       "      <td>SFO</td>\n",
       "      <td>1</td>\n",
       "      <td>C</td>\n",
       "      <td>0</td>\n",
       "      <td>NaN</td>\n",
       "      <td>NaN</td>\n",
       "      <td>NaN</td>\n",
       "      <td>NaN</td>\n",
       "      <td>NaN</td>\n",
       "    </tr>\n",
       "    <tr>\n",
       "      <th>415</th>\n",
       "      <td>2008</td>\n",
       "      <td>1</td>\n",
       "      <td>3</td>\n",
       "      <td>4</td>\n",
       "      <td>1930</td>\n",
       "      <td>2035</td>\n",
       "      <td>WN</td>\n",
       "      <td>2528</td>\n",
       "      <td>NaN</td>\n",
       "      <td>NaN</td>\n",
       "      <td>LAX</td>\n",
       "      <td>SJC</td>\n",
       "      <td>1</td>\n",
       "      <td>A</td>\n",
       "      <td>0</td>\n",
       "      <td>NaN</td>\n",
       "      <td>NaN</td>\n",
       "      <td>NaN</td>\n",
       "      <td>NaN</td>\n",
       "      <td>NaN</td>\n",
       "    </tr>\n",
       "    <tr>\n",
       "      <th>...</th>\n",
       "      <td>...</td>\n",
       "      <td>...</td>\n",
       "      <td>...</td>\n",
       "      <td>...</td>\n",
       "      <td>...</td>\n",
       "      <td>...</td>\n",
       "      <td>...</td>\n",
       "      <td>...</td>\n",
       "      <td>...</td>\n",
       "      <td>...</td>\n",
       "      <td>...</td>\n",
       "      <td>...</td>\n",
       "      <td>...</td>\n",
       "      <td>...</td>\n",
       "      <td>...</td>\n",
       "      <td>...</td>\n",
       "      <td>...</td>\n",
       "      <td>...</td>\n",
       "      <td>...</td>\n",
       "      <td>...</td>\n",
       "    </tr>\n",
       "    <tr>\n",
       "      <th>7009455</th>\n",
       "      <td>2008</td>\n",
       "      <td>12</td>\n",
       "      <td>13</td>\n",
       "      <td>6</td>\n",
       "      <td>600</td>\n",
       "      <td>815</td>\n",
       "      <td>DL</td>\n",
       "      <td>1211</td>\n",
       "      <td>NaN</td>\n",
       "      <td>NaN</td>\n",
       "      <td>LGA</td>\n",
       "      <td>CVG</td>\n",
       "      <td>1</td>\n",
       "      <td>A</td>\n",
       "      <td>0</td>\n",
       "      <td>NaN</td>\n",
       "      <td>NaN</td>\n",
       "      <td>NaN</td>\n",
       "      <td>NaN</td>\n",
       "      <td>NaN</td>\n",
       "    </tr>\n",
       "    <tr>\n",
       "      <th>7009464</th>\n",
       "      <td>2008</td>\n",
       "      <td>12</td>\n",
       "      <td>13</td>\n",
       "      <td>6</td>\n",
       "      <td>1930</td>\n",
       "      <td>2129</td>\n",
       "      <td>DL</td>\n",
       "      <td>1218</td>\n",
       "      <td>NaN</td>\n",
       "      <td>NaN</td>\n",
       "      <td>CVG</td>\n",
       "      <td>LGA</td>\n",
       "      <td>1</td>\n",
       "      <td>A</td>\n",
       "      <td>0</td>\n",
       "      <td>NaN</td>\n",
       "      <td>NaN</td>\n",
       "      <td>NaN</td>\n",
       "      <td>NaN</td>\n",
       "      <td>NaN</td>\n",
       "    </tr>\n",
       "    <tr>\n",
       "      <th>7009564</th>\n",
       "      <td>2008</td>\n",
       "      <td>12</td>\n",
       "      <td>13</td>\n",
       "      <td>6</td>\n",
       "      <td>700</td>\n",
       "      <td>1035</td>\n",
       "      <td>DL</td>\n",
       "      <td>1421</td>\n",
       "      <td>NaN</td>\n",
       "      <td>NaN</td>\n",
       "      <td>BOS</td>\n",
       "      <td>FLL</td>\n",
       "      <td>1</td>\n",
       "      <td>A</td>\n",
       "      <td>0</td>\n",
       "      <td>NaN</td>\n",
       "      <td>NaN</td>\n",
       "      <td>NaN</td>\n",
       "      <td>NaN</td>\n",
       "      <td>NaN</td>\n",
       "    </tr>\n",
       "    <tr>\n",
       "      <th>7009565</th>\n",
       "      <td>2008</td>\n",
       "      <td>12</td>\n",
       "      <td>13</td>\n",
       "      <td>6</td>\n",
       "      <td>1115</td>\n",
       "      <td>1432</td>\n",
       "      <td>DL</td>\n",
       "      <td>1422</td>\n",
       "      <td>NaN</td>\n",
       "      <td>NaN</td>\n",
       "      <td>FLL</td>\n",
       "      <td>BOS</td>\n",
       "      <td>1</td>\n",
       "      <td>A</td>\n",
       "      <td>0</td>\n",
       "      <td>NaN</td>\n",
       "      <td>NaN</td>\n",
       "      <td>NaN</td>\n",
       "      <td>NaN</td>\n",
       "      <td>NaN</td>\n",
       "    </tr>\n",
       "    <tr>\n",
       "      <th>7009648</th>\n",
       "      <td>2008</td>\n",
       "      <td>12</td>\n",
       "      <td>13</td>\n",
       "      <td>6</td>\n",
       "      <td>1020</td>\n",
       "      <td>1126</td>\n",
       "      <td>DL</td>\n",
       "      <td>1532</td>\n",
       "      <td>NaN</td>\n",
       "      <td>NaN</td>\n",
       "      <td>SAV</td>\n",
       "      <td>ATL</td>\n",
       "      <td>1</td>\n",
       "      <td>A</td>\n",
       "      <td>0</td>\n",
       "      <td>NaN</td>\n",
       "      <td>NaN</td>\n",
       "      <td>NaN</td>\n",
       "      <td>NaN</td>\n",
       "      <td>NaN</td>\n",
       "    </tr>\n",
       "  </tbody>\n",
       "</table>\n",
       "<p>154699 rows × 20 columns</p>\n",
       "</div>"
      ],
      "text/plain": [
       "         Year  Month  DayofMonth  DayOfWeek  CRSDepTime  CRSArrTime  \\\n",
       "178      2008      1           3          4         700         830   \n",
       "373      2008      1           3          4        1100        1215   \n",
       "399      2008      1           3          4         905        1025   \n",
       "401      2008      1           3          4        1620        1740   \n",
       "415      2008      1           3          4        1930        2035   \n",
       "...       ...    ...         ...        ...         ...         ...   \n",
       "7009455  2008     12          13          6         600         815   \n",
       "7009464  2008     12          13          6        1930        2129   \n",
       "7009564  2008     12          13          6         700        1035   \n",
       "7009565  2008     12          13          6        1115        1432   \n",
       "7009648  2008     12          13          6        1020        1126   \n",
       "\n",
       "        UniqueCarrier  FlightNum  ArrDelay  DepDelay Origin Dest  Cancelled  \\\n",
       "178                WN        126       NaN       NaN    LAS  OAK          1   \n",
       "373                WN       1146       NaN       NaN    LAX  OAK          1   \n",
       "399                WN        469       NaN       NaN    LAX  SFO          1   \n",
       "401                WN        618       NaN       NaN    LAX  SFO          1   \n",
       "415                WN       2528       NaN       NaN    LAX  SJC          1   \n",
       "...               ...        ...       ...       ...    ...  ...        ...   \n",
       "7009455            DL       1211       NaN       NaN    LGA  CVG          1   \n",
       "7009464            DL       1218       NaN       NaN    CVG  LGA          1   \n",
       "7009564            DL       1421       NaN       NaN    BOS  FLL          1   \n",
       "7009565            DL       1422       NaN       NaN    FLL  BOS          1   \n",
       "7009648            DL       1532       NaN       NaN    SAV  ATL          1   \n",
       "\n",
       "        CancellationCode  Diverted  CarrierDelay  WeatherDelay  NASDelay  \\\n",
       "178                    A         0           NaN           NaN       NaN   \n",
       "373                    A         0           NaN           NaN       NaN   \n",
       "399                    A         0           NaN           NaN       NaN   \n",
       "401                    C         0           NaN           NaN       NaN   \n",
       "415                    A         0           NaN           NaN       NaN   \n",
       "...                  ...       ...           ...           ...       ...   \n",
       "7009455                A         0           NaN           NaN       NaN   \n",
       "7009464                A         0           NaN           NaN       NaN   \n",
       "7009564                A         0           NaN           NaN       NaN   \n",
       "7009565                A         0           NaN           NaN       NaN   \n",
       "7009648                A         0           NaN           NaN       NaN   \n",
       "\n",
       "         SecurityDelay  LateAircraftDelay  \n",
       "178                NaN                NaN  \n",
       "373                NaN                NaN  \n",
       "399                NaN                NaN  \n",
       "401                NaN                NaN  \n",
       "415                NaN                NaN  \n",
       "...                ...                ...  \n",
       "7009455            NaN                NaN  \n",
       "7009464            NaN                NaN  \n",
       "7009564            NaN                NaN  \n",
       "7009565            NaN                NaN  \n",
       "7009648            NaN                NaN  \n",
       "\n",
       "[154699 rows x 20 columns]"
      ]
     },
     "execution_count": 11,
     "metadata": {},
     "output_type": "execute_result"
    }
   ],
   "source": [
    "# Seach for records where ArrDelay is null\n",
    "df_flights[df_flights['ArrDelay'].isna()]"
   ]
  },
  {
   "cell_type": "markdown",
   "metadata": {},
   "source": [
    "These flights all appear to be cancellations. Let's confirm this by seeing if any nulls exist when canceled is false."
   ]
  },
  {
   "cell_type": "code",
   "execution_count": 12,
   "metadata": {},
   "outputs": [
    {
     "data": {
      "text/html": [
       "<div>\n",
       "<style scoped>\n",
       "    .dataframe tbody tr th:only-of-type {\n",
       "        vertical-align: middle;\n",
       "    }\n",
       "\n",
       "    .dataframe tbody tr th {\n",
       "        vertical-align: top;\n",
       "    }\n",
       "\n",
       "    .dataframe thead th {\n",
       "        text-align: right;\n",
       "    }\n",
       "</style>\n",
       "<table border=\"1\" class=\"dataframe\">\n",
       "  <thead>\n",
       "    <tr style=\"text-align: right;\">\n",
       "      <th></th>\n",
       "      <th>Year</th>\n",
       "      <th>Month</th>\n",
       "      <th>DayofMonth</th>\n",
       "      <th>DayOfWeek</th>\n",
       "      <th>CRSDepTime</th>\n",
       "      <th>CRSArrTime</th>\n",
       "      <th>UniqueCarrier</th>\n",
       "      <th>FlightNum</th>\n",
       "      <th>ArrDelay</th>\n",
       "      <th>DepDelay</th>\n",
       "      <th>Origin</th>\n",
       "      <th>Dest</th>\n",
       "      <th>Cancelled</th>\n",
       "      <th>CancellationCode</th>\n",
       "      <th>Diverted</th>\n",
       "      <th>CarrierDelay</th>\n",
       "      <th>WeatherDelay</th>\n",
       "      <th>NASDelay</th>\n",
       "      <th>SecurityDelay</th>\n",
       "      <th>LateAircraftDelay</th>\n",
       "    </tr>\n",
       "  </thead>\n",
       "  <tbody>\n",
       "    <tr>\n",
       "      <th>1763</th>\n",
       "      <td>2008</td>\n",
       "      <td>1</td>\n",
       "      <td>3</td>\n",
       "      <td>4</td>\n",
       "      <td>915</td>\n",
       "      <td>1050</td>\n",
       "      <td>WN</td>\n",
       "      <td>1069</td>\n",
       "      <td>NaN</td>\n",
       "      <td>7.0</td>\n",
       "      <td>SAN</td>\n",
       "      <td>SMF</td>\n",
       "      <td>0</td>\n",
       "      <td>NaN</td>\n",
       "      <td>1</td>\n",
       "      <td>NaN</td>\n",
       "      <td>NaN</td>\n",
       "      <td>NaN</td>\n",
       "      <td>NaN</td>\n",
       "      <td>NaN</td>\n",
       "    </tr>\n",
       "    <tr>\n",
       "      <th>1911</th>\n",
       "      <td>2008</td>\n",
       "      <td>1</td>\n",
       "      <td>3</td>\n",
       "      <td>4</td>\n",
       "      <td>1900</td>\n",
       "      <td>2030</td>\n",
       "      <td>WN</td>\n",
       "      <td>2092</td>\n",
       "      <td>NaN</td>\n",
       "      <td>265.0</td>\n",
       "      <td>SFO</td>\n",
       "      <td>SAN</td>\n",
       "      <td>0</td>\n",
       "      <td>NaN</td>\n",
       "      <td>1</td>\n",
       "      <td>NaN</td>\n",
       "      <td>NaN</td>\n",
       "      <td>NaN</td>\n",
       "      <td>NaN</td>\n",
       "      <td>NaN</td>\n",
       "    </tr>\n",
       "    <tr>\n",
       "      <th>2651</th>\n",
       "      <td>2008</td>\n",
       "      <td>1</td>\n",
       "      <td>4</td>\n",
       "      <td>5</td>\n",
       "      <td>1905</td>\n",
       "      <td>1910</td>\n",
       "      <td>WN</td>\n",
       "      <td>1403</td>\n",
       "      <td>NaN</td>\n",
       "      <td>44.0</td>\n",
       "      <td>BOI</td>\n",
       "      <td>RNO</td>\n",
       "      <td>0</td>\n",
       "      <td>NaN</td>\n",
       "      <td>1</td>\n",
       "      <td>NaN</td>\n",
       "      <td>NaN</td>\n",
       "      <td>NaN</td>\n",
       "      <td>NaN</td>\n",
       "      <td>NaN</td>\n",
       "    </tr>\n",
       "    <tr>\n",
       "      <th>2726</th>\n",
       "      <td>2008</td>\n",
       "      <td>1</td>\n",
       "      <td>4</td>\n",
       "      <td>5</td>\n",
       "      <td>705</td>\n",
       "      <td>825</td>\n",
       "      <td>WN</td>\n",
       "      <td>178</td>\n",
       "      <td>NaN</td>\n",
       "      <td>32.0</td>\n",
       "      <td>BUR</td>\n",
       "      <td>SMF</td>\n",
       "      <td>0</td>\n",
       "      <td>NaN</td>\n",
       "      <td>1</td>\n",
       "      <td>NaN</td>\n",
       "      <td>NaN</td>\n",
       "      <td>NaN</td>\n",
       "      <td>NaN</td>\n",
       "      <td>NaN</td>\n",
       "    </tr>\n",
       "    <tr>\n",
       "      <th>3383</th>\n",
       "      <td>2008</td>\n",
       "      <td>1</td>\n",
       "      <td>4</td>\n",
       "      <td>5</td>\n",
       "      <td>930</td>\n",
       "      <td>1145</td>\n",
       "      <td>WN</td>\n",
       "      <td>2011</td>\n",
       "      <td>NaN</td>\n",
       "      <td>1.0</td>\n",
       "      <td>HOU</td>\n",
       "      <td>OAK</td>\n",
       "      <td>0</td>\n",
       "      <td>NaN</td>\n",
       "      <td>1</td>\n",
       "      <td>NaN</td>\n",
       "      <td>NaN</td>\n",
       "      <td>NaN</td>\n",
       "      <td>NaN</td>\n",
       "      <td>NaN</td>\n",
       "    </tr>\n",
       "    <tr>\n",
       "      <th>...</th>\n",
       "      <td>...</td>\n",
       "      <td>...</td>\n",
       "      <td>...</td>\n",
       "      <td>...</td>\n",
       "      <td>...</td>\n",
       "      <td>...</td>\n",
       "      <td>...</td>\n",
       "      <td>...</td>\n",
       "      <td>...</td>\n",
       "      <td>...</td>\n",
       "      <td>...</td>\n",
       "      <td>...</td>\n",
       "      <td>...</td>\n",
       "      <td>...</td>\n",
       "      <td>...</td>\n",
       "      <td>...</td>\n",
       "      <td>...</td>\n",
       "      <td>...</td>\n",
       "      <td>...</td>\n",
       "      <td>...</td>\n",
       "    </tr>\n",
       "    <tr>\n",
       "      <th>7006200</th>\n",
       "      <td>2008</td>\n",
       "      <td>12</td>\n",
       "      <td>10</td>\n",
       "      <td>3</td>\n",
       "      <td>640</td>\n",
       "      <td>859</td>\n",
       "      <td>DL</td>\n",
       "      <td>1610</td>\n",
       "      <td>NaN</td>\n",
       "      <td>34.0</td>\n",
       "      <td>JAN</td>\n",
       "      <td>ATL</td>\n",
       "      <td>0</td>\n",
       "      <td>NaN</td>\n",
       "      <td>1</td>\n",
       "      <td>NaN</td>\n",
       "      <td>NaN</td>\n",
       "      <td>NaN</td>\n",
       "      <td>NaN</td>\n",
       "      <td>NaN</td>\n",
       "    </tr>\n",
       "    <tr>\n",
       "      <th>7006401</th>\n",
       "      <td>2008</td>\n",
       "      <td>12</td>\n",
       "      <td>11</td>\n",
       "      <td>4</td>\n",
       "      <td>1106</td>\n",
       "      <td>1950</td>\n",
       "      <td>DL</td>\n",
       "      <td>26</td>\n",
       "      <td>NaN</td>\n",
       "      <td>169.0</td>\n",
       "      <td>LAX</td>\n",
       "      <td>JFK</td>\n",
       "      <td>0</td>\n",
       "      <td>NaN</td>\n",
       "      <td>1</td>\n",
       "      <td>NaN</td>\n",
       "      <td>NaN</td>\n",
       "      <td>NaN</td>\n",
       "      <td>NaN</td>\n",
       "      <td>NaN</td>\n",
       "    </tr>\n",
       "    <tr>\n",
       "      <th>7007034</th>\n",
       "      <td>2008</td>\n",
       "      <td>12</td>\n",
       "      <td>11</td>\n",
       "      <td>4</td>\n",
       "      <td>1520</td>\n",
       "      <td>1708</td>\n",
       "      <td>DL</td>\n",
       "      <td>1102</td>\n",
       "      <td>NaN</td>\n",
       "      <td>7.0</td>\n",
       "      <td>IAD</td>\n",
       "      <td>ATL</td>\n",
       "      <td>0</td>\n",
       "      <td>NaN</td>\n",
       "      <td>1</td>\n",
       "      <td>NaN</td>\n",
       "      <td>NaN</td>\n",
       "      <td>NaN</td>\n",
       "      <td>NaN</td>\n",
       "      <td>NaN</td>\n",
       "    </tr>\n",
       "    <tr>\n",
       "      <th>7007389</th>\n",
       "      <td>2008</td>\n",
       "      <td>12</td>\n",
       "      <td>11</td>\n",
       "      <td>4</td>\n",
       "      <td>725</td>\n",
       "      <td>945</td>\n",
       "      <td>DL</td>\n",
       "      <td>1491</td>\n",
       "      <td>NaN</td>\n",
       "      <td>-8.0</td>\n",
       "      <td>LGA</td>\n",
       "      <td>MSY</td>\n",
       "      <td>0</td>\n",
       "      <td>NaN</td>\n",
       "      <td>1</td>\n",
       "      <td>NaN</td>\n",
       "      <td>NaN</td>\n",
       "      <td>NaN</td>\n",
       "      <td>NaN</td>\n",
       "      <td>NaN</td>\n",
       "    </tr>\n",
       "    <tr>\n",
       "      <th>7009310</th>\n",
       "      <td>2008</td>\n",
       "      <td>12</td>\n",
       "      <td>13</td>\n",
       "      <td>6</td>\n",
       "      <td>2130</td>\n",
       "      <td>2327</td>\n",
       "      <td>DL</td>\n",
       "      <td>1022</td>\n",
       "      <td>NaN</td>\n",
       "      <td>-1.0</td>\n",
       "      <td>ATL</td>\n",
       "      <td>PHL</td>\n",
       "      <td>0</td>\n",
       "      <td>NaN</td>\n",
       "      <td>1</td>\n",
       "      <td>NaN</td>\n",
       "      <td>NaN</td>\n",
       "      <td>NaN</td>\n",
       "      <td>NaN</td>\n",
       "      <td>NaN</td>\n",
       "    </tr>\n",
       "  </tbody>\n",
       "</table>\n",
       "<p>17265 rows × 20 columns</p>\n",
       "</div>"
      ],
      "text/plain": [
       "         Year  Month  DayofMonth  DayOfWeek  CRSDepTime  CRSArrTime  \\\n",
       "1763     2008      1           3          4         915        1050   \n",
       "1911     2008      1           3          4        1900        2030   \n",
       "2651     2008      1           4          5        1905        1910   \n",
       "2726     2008      1           4          5         705         825   \n",
       "3383     2008      1           4          5         930        1145   \n",
       "...       ...    ...         ...        ...         ...         ...   \n",
       "7006200  2008     12          10          3         640         859   \n",
       "7006401  2008     12          11          4        1106        1950   \n",
       "7007034  2008     12          11          4        1520        1708   \n",
       "7007389  2008     12          11          4         725         945   \n",
       "7009310  2008     12          13          6        2130        2327   \n",
       "\n",
       "        UniqueCarrier  FlightNum  ArrDelay  DepDelay Origin Dest  Cancelled  \\\n",
       "1763               WN       1069       NaN       7.0    SAN  SMF          0   \n",
       "1911               WN       2092       NaN     265.0    SFO  SAN          0   \n",
       "2651               WN       1403       NaN      44.0    BOI  RNO          0   \n",
       "2726               WN        178       NaN      32.0    BUR  SMF          0   \n",
       "3383               WN       2011       NaN       1.0    HOU  OAK          0   \n",
       "...               ...        ...       ...       ...    ...  ...        ...   \n",
       "7006200            DL       1610       NaN      34.0    JAN  ATL          0   \n",
       "7006401            DL         26       NaN     169.0    LAX  JFK          0   \n",
       "7007034            DL       1102       NaN       7.0    IAD  ATL          0   \n",
       "7007389            DL       1491       NaN      -8.0    LGA  MSY          0   \n",
       "7009310            DL       1022       NaN      -1.0    ATL  PHL          0   \n",
       "\n",
       "        CancellationCode  Diverted  CarrierDelay  WeatherDelay  NASDelay  \\\n",
       "1763                 NaN         1           NaN           NaN       NaN   \n",
       "1911                 NaN         1           NaN           NaN       NaN   \n",
       "2651                 NaN         1           NaN           NaN       NaN   \n",
       "2726                 NaN         1           NaN           NaN       NaN   \n",
       "3383                 NaN         1           NaN           NaN       NaN   \n",
       "...                  ...       ...           ...           ...       ...   \n",
       "7006200              NaN         1           NaN           NaN       NaN   \n",
       "7006401              NaN         1           NaN           NaN       NaN   \n",
       "7007034              NaN         1           NaN           NaN       NaN   \n",
       "7007389              NaN         1           NaN           NaN       NaN   \n",
       "7009310              NaN         1           NaN           NaN       NaN   \n",
       "\n",
       "         SecurityDelay  LateAircraftDelay  \n",
       "1763               NaN                NaN  \n",
       "1911               NaN                NaN  \n",
       "2651               NaN                NaN  \n",
       "2726               NaN                NaN  \n",
       "3383               NaN                NaN  \n",
       "...                ...                ...  \n",
       "7006200            NaN                NaN  \n",
       "7006401            NaN                NaN  \n",
       "7007034            NaN                NaN  \n",
       "7007389            NaN                NaN  \n",
       "7009310            NaN                NaN  \n",
       "\n",
       "[17265 rows x 20 columns]"
      ]
     },
     "execution_count": 12,
     "metadata": {},
     "output_type": "execute_result"
    }
   ],
   "source": [
    "df_flights[(df_flights['ArrDelay'].isna()) & (df_flights['Cancelled']!=1)]"
   ]
  },
  {
   "cell_type": "markdown",
   "metadata": {},
   "source": [
    "OK, it looks like a number of these are also diversions. Let's check to see if there are any nulls that are not cancellations nor diversions."
   ]
  },
  {
   "cell_type": "code",
   "execution_count": 13,
   "metadata": {},
   "outputs": [
    {
     "data": {
      "text/html": [
       "<div>\n",
       "<style scoped>\n",
       "    .dataframe tbody tr th:only-of-type {\n",
       "        vertical-align: middle;\n",
       "    }\n",
       "\n",
       "    .dataframe tbody tr th {\n",
       "        vertical-align: top;\n",
       "    }\n",
       "\n",
       "    .dataframe thead th {\n",
       "        text-align: right;\n",
       "    }\n",
       "</style>\n",
       "<table border=\"1\" class=\"dataframe\">\n",
       "  <thead>\n",
       "    <tr style=\"text-align: right;\">\n",
       "      <th></th>\n",
       "      <th>Year</th>\n",
       "      <th>Month</th>\n",
       "      <th>DayofMonth</th>\n",
       "      <th>DayOfWeek</th>\n",
       "      <th>CRSDepTime</th>\n",
       "      <th>CRSArrTime</th>\n",
       "      <th>UniqueCarrier</th>\n",
       "      <th>FlightNum</th>\n",
       "      <th>ArrDelay</th>\n",
       "      <th>DepDelay</th>\n",
       "      <th>Origin</th>\n",
       "      <th>Dest</th>\n",
       "      <th>Cancelled</th>\n",
       "      <th>CancellationCode</th>\n",
       "      <th>Diverted</th>\n",
       "      <th>CarrierDelay</th>\n",
       "      <th>WeatherDelay</th>\n",
       "      <th>NASDelay</th>\n",
       "      <th>SecurityDelay</th>\n",
       "      <th>LateAircraftDelay</th>\n",
       "    </tr>\n",
       "  </thead>\n",
       "  <tbody>\n",
       "  </tbody>\n",
       "</table>\n",
       "</div>"
      ],
      "text/plain": [
       "Empty DataFrame\n",
       "Columns: [Year, Month, DayofMonth, DayOfWeek, CRSDepTime, CRSArrTime, UniqueCarrier, FlightNum, ArrDelay, DepDelay, Origin, Dest, Cancelled, CancellationCode, Diverted, CarrierDelay, WeatherDelay, NASDelay, SecurityDelay, LateAircraftDelay]\n",
       "Index: []"
      ]
     },
     "execution_count": 13,
     "metadata": {},
     "output_type": "execute_result"
    }
   ],
   "source": [
    "df_flights[(df_flights['ArrDelay'].isna()) & (df_flights['Cancelled']!=1) & (df_flights['Diverted']!=1)]"
   ]
  },
  {
   "cell_type": "markdown",
   "metadata": {},
   "source": [
    "No rows are returned. It appears that the `ArrDelay` column is null only in the case where the flight was cancelled or diverted, which seems correct. We can fill these with 0's to be consistent with other flights in which there was no arrival delay."
   ]
  },
  {
   "cell_type": "code",
   "execution_count": 14,
   "metadata": {},
   "outputs": [],
   "source": [
    "# Remove the nulls\n",
    "df_flights['ArrDelay'].fillna(0, inplace=True)"
   ]
  },
  {
   "cell_type": "code",
   "execution_count": 15,
   "metadata": {},
   "outputs": [
    {
     "data": {
      "text/plain": [
       "0"
      ]
     },
     "execution_count": 15,
     "metadata": {},
     "output_type": "execute_result"
    }
   ],
   "source": [
    "# Ensure that the nulls have been removed. This should return 0.\n",
    "sum(df_flights[df_flights['ArrDelay'].isna()].count())"
   ]
  },
  {
   "cell_type": "markdown",
   "metadata": {},
   "source": [
    "Let's check the `DepDelay` column now."
   ]
  },
  {
   "cell_type": "code",
   "execution_count": 16,
   "metadata": {
    "scrolled": true
   },
   "outputs": [
    {
     "data": {
      "text/html": [
       "<div>\n",
       "<style scoped>\n",
       "    .dataframe tbody tr th:only-of-type {\n",
       "        vertical-align: middle;\n",
       "    }\n",
       "\n",
       "    .dataframe tbody tr th {\n",
       "        vertical-align: top;\n",
       "    }\n",
       "\n",
       "    .dataframe thead th {\n",
       "        text-align: right;\n",
       "    }\n",
       "</style>\n",
       "<table border=\"1\" class=\"dataframe\">\n",
       "  <thead>\n",
       "    <tr style=\"text-align: right;\">\n",
       "      <th></th>\n",
       "      <th>Year</th>\n",
       "      <th>Month</th>\n",
       "      <th>DayofMonth</th>\n",
       "      <th>DayOfWeek</th>\n",
       "      <th>CRSDepTime</th>\n",
       "      <th>CRSArrTime</th>\n",
       "      <th>UniqueCarrier</th>\n",
       "      <th>FlightNum</th>\n",
       "      <th>ArrDelay</th>\n",
       "      <th>DepDelay</th>\n",
       "      <th>Origin</th>\n",
       "      <th>Dest</th>\n",
       "      <th>Cancelled</th>\n",
       "      <th>CancellationCode</th>\n",
       "      <th>Diverted</th>\n",
       "      <th>CarrierDelay</th>\n",
       "      <th>WeatherDelay</th>\n",
       "      <th>NASDelay</th>\n",
       "      <th>SecurityDelay</th>\n",
       "      <th>LateAircraftDelay</th>\n",
       "    </tr>\n",
       "  </thead>\n",
       "  <tbody>\n",
       "    <tr>\n",
       "      <th>178</th>\n",
       "      <td>2008</td>\n",
       "      <td>1</td>\n",
       "      <td>3</td>\n",
       "      <td>4</td>\n",
       "      <td>700</td>\n",
       "      <td>830</td>\n",
       "      <td>WN</td>\n",
       "      <td>126</td>\n",
       "      <td>0.0</td>\n",
       "      <td>NaN</td>\n",
       "      <td>LAS</td>\n",
       "      <td>OAK</td>\n",
       "      <td>1</td>\n",
       "      <td>A</td>\n",
       "      <td>0</td>\n",
       "      <td>NaN</td>\n",
       "      <td>NaN</td>\n",
       "      <td>NaN</td>\n",
       "      <td>NaN</td>\n",
       "      <td>NaN</td>\n",
       "    </tr>\n",
       "    <tr>\n",
       "      <th>373</th>\n",
       "      <td>2008</td>\n",
       "      <td>1</td>\n",
       "      <td>3</td>\n",
       "      <td>4</td>\n",
       "      <td>1100</td>\n",
       "      <td>1215</td>\n",
       "      <td>WN</td>\n",
       "      <td>1146</td>\n",
       "      <td>0.0</td>\n",
       "      <td>NaN</td>\n",
       "      <td>LAX</td>\n",
       "      <td>OAK</td>\n",
       "      <td>1</td>\n",
       "      <td>A</td>\n",
       "      <td>0</td>\n",
       "      <td>NaN</td>\n",
       "      <td>NaN</td>\n",
       "      <td>NaN</td>\n",
       "      <td>NaN</td>\n",
       "      <td>NaN</td>\n",
       "    </tr>\n",
       "    <tr>\n",
       "      <th>399</th>\n",
       "      <td>2008</td>\n",
       "      <td>1</td>\n",
       "      <td>3</td>\n",
       "      <td>4</td>\n",
       "      <td>905</td>\n",
       "      <td>1025</td>\n",
       "      <td>WN</td>\n",
       "      <td>469</td>\n",
       "      <td>0.0</td>\n",
       "      <td>NaN</td>\n",
       "      <td>LAX</td>\n",
       "      <td>SFO</td>\n",
       "      <td>1</td>\n",
       "      <td>A</td>\n",
       "      <td>0</td>\n",
       "      <td>NaN</td>\n",
       "      <td>NaN</td>\n",
       "      <td>NaN</td>\n",
       "      <td>NaN</td>\n",
       "      <td>NaN</td>\n",
       "    </tr>\n",
       "    <tr>\n",
       "      <th>401</th>\n",
       "      <td>2008</td>\n",
       "      <td>1</td>\n",
       "      <td>3</td>\n",
       "      <td>4</td>\n",
       "      <td>1620</td>\n",
       "      <td>1740</td>\n",
       "      <td>WN</td>\n",
       "      <td>618</td>\n",
       "      <td>0.0</td>\n",
       "      <td>NaN</td>\n",
       "      <td>LAX</td>\n",
       "      <td>SFO</td>\n",
       "      <td>1</td>\n",
       "      <td>C</td>\n",
       "      <td>0</td>\n",
       "      <td>NaN</td>\n",
       "      <td>NaN</td>\n",
       "      <td>NaN</td>\n",
       "      <td>NaN</td>\n",
       "      <td>NaN</td>\n",
       "    </tr>\n",
       "    <tr>\n",
       "      <th>415</th>\n",
       "      <td>2008</td>\n",
       "      <td>1</td>\n",
       "      <td>3</td>\n",
       "      <td>4</td>\n",
       "      <td>1930</td>\n",
       "      <td>2035</td>\n",
       "      <td>WN</td>\n",
       "      <td>2528</td>\n",
       "      <td>0.0</td>\n",
       "      <td>NaN</td>\n",
       "      <td>LAX</td>\n",
       "      <td>SJC</td>\n",
       "      <td>1</td>\n",
       "      <td>A</td>\n",
       "      <td>0</td>\n",
       "      <td>NaN</td>\n",
       "      <td>NaN</td>\n",
       "      <td>NaN</td>\n",
       "      <td>NaN</td>\n",
       "      <td>NaN</td>\n",
       "    </tr>\n",
       "    <tr>\n",
       "      <th>...</th>\n",
       "      <td>...</td>\n",
       "      <td>...</td>\n",
       "      <td>...</td>\n",
       "      <td>...</td>\n",
       "      <td>...</td>\n",
       "      <td>...</td>\n",
       "      <td>...</td>\n",
       "      <td>...</td>\n",
       "      <td>...</td>\n",
       "      <td>...</td>\n",
       "      <td>...</td>\n",
       "      <td>...</td>\n",
       "      <td>...</td>\n",
       "      <td>...</td>\n",
       "      <td>...</td>\n",
       "      <td>...</td>\n",
       "      <td>...</td>\n",
       "      <td>...</td>\n",
       "      <td>...</td>\n",
       "      <td>...</td>\n",
       "    </tr>\n",
       "    <tr>\n",
       "      <th>7009455</th>\n",
       "      <td>2008</td>\n",
       "      <td>12</td>\n",
       "      <td>13</td>\n",
       "      <td>6</td>\n",
       "      <td>600</td>\n",
       "      <td>815</td>\n",
       "      <td>DL</td>\n",
       "      <td>1211</td>\n",
       "      <td>0.0</td>\n",
       "      <td>NaN</td>\n",
       "      <td>LGA</td>\n",
       "      <td>CVG</td>\n",
       "      <td>1</td>\n",
       "      <td>A</td>\n",
       "      <td>0</td>\n",
       "      <td>NaN</td>\n",
       "      <td>NaN</td>\n",
       "      <td>NaN</td>\n",
       "      <td>NaN</td>\n",
       "      <td>NaN</td>\n",
       "    </tr>\n",
       "    <tr>\n",
       "      <th>7009464</th>\n",
       "      <td>2008</td>\n",
       "      <td>12</td>\n",
       "      <td>13</td>\n",
       "      <td>6</td>\n",
       "      <td>1930</td>\n",
       "      <td>2129</td>\n",
       "      <td>DL</td>\n",
       "      <td>1218</td>\n",
       "      <td>0.0</td>\n",
       "      <td>NaN</td>\n",
       "      <td>CVG</td>\n",
       "      <td>LGA</td>\n",
       "      <td>1</td>\n",
       "      <td>A</td>\n",
       "      <td>0</td>\n",
       "      <td>NaN</td>\n",
       "      <td>NaN</td>\n",
       "      <td>NaN</td>\n",
       "      <td>NaN</td>\n",
       "      <td>NaN</td>\n",
       "    </tr>\n",
       "    <tr>\n",
       "      <th>7009564</th>\n",
       "      <td>2008</td>\n",
       "      <td>12</td>\n",
       "      <td>13</td>\n",
       "      <td>6</td>\n",
       "      <td>700</td>\n",
       "      <td>1035</td>\n",
       "      <td>DL</td>\n",
       "      <td>1421</td>\n",
       "      <td>0.0</td>\n",
       "      <td>NaN</td>\n",
       "      <td>BOS</td>\n",
       "      <td>FLL</td>\n",
       "      <td>1</td>\n",
       "      <td>A</td>\n",
       "      <td>0</td>\n",
       "      <td>NaN</td>\n",
       "      <td>NaN</td>\n",
       "      <td>NaN</td>\n",
       "      <td>NaN</td>\n",
       "      <td>NaN</td>\n",
       "    </tr>\n",
       "    <tr>\n",
       "      <th>7009565</th>\n",
       "      <td>2008</td>\n",
       "      <td>12</td>\n",
       "      <td>13</td>\n",
       "      <td>6</td>\n",
       "      <td>1115</td>\n",
       "      <td>1432</td>\n",
       "      <td>DL</td>\n",
       "      <td>1422</td>\n",
       "      <td>0.0</td>\n",
       "      <td>NaN</td>\n",
       "      <td>FLL</td>\n",
       "      <td>BOS</td>\n",
       "      <td>1</td>\n",
       "      <td>A</td>\n",
       "      <td>0</td>\n",
       "      <td>NaN</td>\n",
       "      <td>NaN</td>\n",
       "      <td>NaN</td>\n",
       "      <td>NaN</td>\n",
       "      <td>NaN</td>\n",
       "    </tr>\n",
       "    <tr>\n",
       "      <th>7009648</th>\n",
       "      <td>2008</td>\n",
       "      <td>12</td>\n",
       "      <td>13</td>\n",
       "      <td>6</td>\n",
       "      <td>1020</td>\n",
       "      <td>1126</td>\n",
       "      <td>DL</td>\n",
       "      <td>1532</td>\n",
       "      <td>0.0</td>\n",
       "      <td>NaN</td>\n",
       "      <td>SAV</td>\n",
       "      <td>ATL</td>\n",
       "      <td>1</td>\n",
       "      <td>A</td>\n",
       "      <td>0</td>\n",
       "      <td>NaN</td>\n",
       "      <td>NaN</td>\n",
       "      <td>NaN</td>\n",
       "      <td>NaN</td>\n",
       "      <td>NaN</td>\n",
       "    </tr>\n",
       "  </tbody>\n",
       "</table>\n",
       "<p>136246 rows × 20 columns</p>\n",
       "</div>"
      ],
      "text/plain": [
       "         Year  Month  DayofMonth  DayOfWeek  CRSDepTime  CRSArrTime  \\\n",
       "178      2008      1           3          4         700         830   \n",
       "373      2008      1           3          4        1100        1215   \n",
       "399      2008      1           3          4         905        1025   \n",
       "401      2008      1           3          4        1620        1740   \n",
       "415      2008      1           3          4        1930        2035   \n",
       "...       ...    ...         ...        ...         ...         ...   \n",
       "7009455  2008     12          13          6         600         815   \n",
       "7009464  2008     12          13          6        1930        2129   \n",
       "7009564  2008     12          13          6         700        1035   \n",
       "7009565  2008     12          13          6        1115        1432   \n",
       "7009648  2008     12          13          6        1020        1126   \n",
       "\n",
       "        UniqueCarrier  FlightNum  ArrDelay  DepDelay Origin Dest  Cancelled  \\\n",
       "178                WN        126       0.0       NaN    LAS  OAK          1   \n",
       "373                WN       1146       0.0       NaN    LAX  OAK          1   \n",
       "399                WN        469       0.0       NaN    LAX  SFO          1   \n",
       "401                WN        618       0.0       NaN    LAX  SFO          1   \n",
       "415                WN       2528       0.0       NaN    LAX  SJC          1   \n",
       "...               ...        ...       ...       ...    ...  ...        ...   \n",
       "7009455            DL       1211       0.0       NaN    LGA  CVG          1   \n",
       "7009464            DL       1218       0.0       NaN    CVG  LGA          1   \n",
       "7009564            DL       1421       0.0       NaN    BOS  FLL          1   \n",
       "7009565            DL       1422       0.0       NaN    FLL  BOS          1   \n",
       "7009648            DL       1532       0.0       NaN    SAV  ATL          1   \n",
       "\n",
       "        CancellationCode  Diverted  CarrierDelay  WeatherDelay  NASDelay  \\\n",
       "178                    A         0           NaN           NaN       NaN   \n",
       "373                    A         0           NaN           NaN       NaN   \n",
       "399                    A         0           NaN           NaN       NaN   \n",
       "401                    C         0           NaN           NaN       NaN   \n",
       "415                    A         0           NaN           NaN       NaN   \n",
       "...                  ...       ...           ...           ...       ...   \n",
       "7009455                A         0           NaN           NaN       NaN   \n",
       "7009464                A         0           NaN           NaN       NaN   \n",
       "7009564                A         0           NaN           NaN       NaN   \n",
       "7009565                A         0           NaN           NaN       NaN   \n",
       "7009648                A         0           NaN           NaN       NaN   \n",
       "\n",
       "         SecurityDelay  LateAircraftDelay  \n",
       "178                NaN                NaN  \n",
       "373                NaN                NaN  \n",
       "399                NaN                NaN  \n",
       "401                NaN                NaN  \n",
       "415                NaN                NaN  \n",
       "...                ...                ...  \n",
       "7009455            NaN                NaN  \n",
       "7009464            NaN                NaN  \n",
       "7009564            NaN                NaN  \n",
       "7009565            NaN                NaN  \n",
       "7009648            NaN                NaN  \n",
       "\n",
       "[136246 rows x 20 columns]"
      ]
     },
     "execution_count": 16,
     "metadata": {},
     "output_type": "execute_result"
    }
   ],
   "source": [
    "# Seach for records where DepDelay is null\n",
    "df_flights[df_flights['DepDelay'].isna()]"
   ]
  },
  {
   "cell_type": "markdown",
   "metadata": {},
   "source": [
    "These results are similar to what we saw the `ArrDelay` column. Let's check if these are all a result of the flight being cancelled."
   ]
  },
  {
   "cell_type": "code",
   "execution_count": 17,
   "metadata": {
    "scrolled": false
   },
   "outputs": [
    {
     "data": {
      "text/html": [
       "<div>\n",
       "<style scoped>\n",
       "    .dataframe tbody tr th:only-of-type {\n",
       "        vertical-align: middle;\n",
       "    }\n",
       "\n",
       "    .dataframe tbody tr th {\n",
       "        vertical-align: top;\n",
       "    }\n",
       "\n",
       "    .dataframe thead th {\n",
       "        text-align: right;\n",
       "    }\n",
       "</style>\n",
       "<table border=\"1\" class=\"dataframe\">\n",
       "  <thead>\n",
       "    <tr style=\"text-align: right;\">\n",
       "      <th></th>\n",
       "      <th>Year</th>\n",
       "      <th>Month</th>\n",
       "      <th>DayofMonth</th>\n",
       "      <th>DayOfWeek</th>\n",
       "      <th>CRSDepTime</th>\n",
       "      <th>CRSArrTime</th>\n",
       "      <th>UniqueCarrier</th>\n",
       "      <th>FlightNum</th>\n",
       "      <th>ArrDelay</th>\n",
       "      <th>DepDelay</th>\n",
       "      <th>Origin</th>\n",
       "      <th>Dest</th>\n",
       "      <th>Cancelled</th>\n",
       "      <th>CancellationCode</th>\n",
       "      <th>Diverted</th>\n",
       "      <th>CarrierDelay</th>\n",
       "      <th>WeatherDelay</th>\n",
       "      <th>NASDelay</th>\n",
       "      <th>SecurityDelay</th>\n",
       "      <th>LateAircraftDelay</th>\n",
       "    </tr>\n",
       "  </thead>\n",
       "  <tbody>\n",
       "  </tbody>\n",
       "</table>\n",
       "</div>"
      ],
      "text/plain": [
       "Empty DataFrame\n",
       "Columns: [Year, Month, DayofMonth, DayOfWeek, CRSDepTime, CRSArrTime, UniqueCarrier, FlightNum, ArrDelay, DepDelay, Origin, Dest, Cancelled, CancellationCode, Diverted, CarrierDelay, WeatherDelay, NASDelay, SecurityDelay, LateAircraftDelay]\n",
       "Index: []"
      ]
     },
     "execution_count": 17,
     "metadata": {},
     "output_type": "execute_result"
    }
   ],
   "source": [
    "df_flights[(df_flights['DepDelay'].isna()) & (df_flights['Cancelled']!=1)]"
   ]
  },
  {
   "cell_type": "markdown",
   "metadata": {},
   "source": [
    "OK, there are no rows returned, which means that if `DepDelay` is null, then the flight was cancelled. This makes sense. Again, we should fill these with 0's for consistency."
   ]
  },
  {
   "cell_type": "code",
   "execution_count": 18,
   "metadata": {},
   "outputs": [],
   "source": [
    "# Replace nulls with 0\n",
    "df_flights['DepDelay'].fillna(0, inplace=True)"
   ]
  },
  {
   "cell_type": "code",
   "execution_count": 19,
   "metadata": {},
   "outputs": [
    {
     "data": {
      "text/plain": [
       "0"
      ]
     },
     "execution_count": 19,
     "metadata": {},
     "output_type": "execute_result"
    }
   ],
   "source": [
    "# Verify that the nulls have been removed. This should return 0.\n",
    "sum(df_flights[df_flights['DepDelay'].isna()].count())"
   ]
  },
  {
   "cell_type": "markdown",
   "metadata": {},
   "source": [
    "Next, let's check those nulls in the `CancellationCode` column and see if any occur if cancelled is true (i.e, its 1)."
   ]
  },
  {
   "cell_type": "code",
   "execution_count": 20,
   "metadata": {},
   "outputs": [
    {
     "data": {
      "text/html": [
       "<div>\n",
       "<style scoped>\n",
       "    .dataframe tbody tr th:only-of-type {\n",
       "        vertical-align: middle;\n",
       "    }\n",
       "\n",
       "    .dataframe tbody tr th {\n",
       "        vertical-align: top;\n",
       "    }\n",
       "\n",
       "    .dataframe thead th {\n",
       "        text-align: right;\n",
       "    }\n",
       "</style>\n",
       "<table border=\"1\" class=\"dataframe\">\n",
       "  <thead>\n",
       "    <tr style=\"text-align: right;\">\n",
       "      <th></th>\n",
       "      <th>Year</th>\n",
       "      <th>Month</th>\n",
       "      <th>DayofMonth</th>\n",
       "      <th>DayOfWeek</th>\n",
       "      <th>CRSDepTime</th>\n",
       "      <th>CRSArrTime</th>\n",
       "      <th>UniqueCarrier</th>\n",
       "      <th>FlightNum</th>\n",
       "      <th>ArrDelay</th>\n",
       "      <th>DepDelay</th>\n",
       "      <th>Origin</th>\n",
       "      <th>Dest</th>\n",
       "      <th>Cancelled</th>\n",
       "      <th>CancellationCode</th>\n",
       "      <th>Diverted</th>\n",
       "      <th>CarrierDelay</th>\n",
       "      <th>WeatherDelay</th>\n",
       "      <th>NASDelay</th>\n",
       "      <th>SecurityDelay</th>\n",
       "      <th>LateAircraftDelay</th>\n",
       "    </tr>\n",
       "  </thead>\n",
       "  <tbody>\n",
       "  </tbody>\n",
       "</table>\n",
       "</div>"
      ],
      "text/plain": [
       "Empty DataFrame\n",
       "Columns: [Year, Month, DayofMonth, DayOfWeek, CRSDepTime, CRSArrTime, UniqueCarrier, FlightNum, ArrDelay, DepDelay, Origin, Dest, Cancelled, CancellationCode, Diverted, CarrierDelay, WeatherDelay, NASDelay, SecurityDelay, LateAircraftDelay]\n",
       "Index: []"
      ]
     },
     "execution_count": 20,
     "metadata": {},
     "output_type": "execute_result"
    }
   ],
   "source": [
    "# Check if any nulls exist when the flight was cancelled\n",
    "df_flights[(df_flights['CancellationCode'].isna()) &\n",
    "          (df_flights['Cancelled'] == 1)]"
   ]
  },
  {
   "cell_type": "markdown",
   "metadata": {},
   "source": [
    "No, the nulls are only present when the flight has not been cancelled. We can actually leave these alone as there should be no be no cancellation code unless the flight has been cancelled. Also, since this field will not have its type changed these nulls won't be a problem."
   ]
  },
  {
   "cell_type": "markdown",
   "metadata": {},
   "source": [
    "Finally, let's check the nulls in the `CarrierDelay`, `WeatherDelay`, `NASDelay`, `SecurityDelay`, and `LateAircraftDelay` columns. Let's check if any of these columns are null when there is an arrival or departure delay, i.e. either of the values of `DepDelay` and `ArrDelay` are positive."
   ]
  },
  {
   "cell_type": "code",
   "execution_count": 21,
   "metadata": {},
   "outputs": [
    {
     "data": {
      "text/html": [
       "<div>\n",
       "<style scoped>\n",
       "    .dataframe tbody tr th:only-of-type {\n",
       "        vertical-align: middle;\n",
       "    }\n",
       "\n",
       "    .dataframe tbody tr th {\n",
       "        vertical-align: top;\n",
       "    }\n",
       "\n",
       "    .dataframe thead th {\n",
       "        text-align: right;\n",
       "    }\n",
       "</style>\n",
       "<table border=\"1\" class=\"dataframe\">\n",
       "  <thead>\n",
       "    <tr style=\"text-align: right;\">\n",
       "      <th></th>\n",
       "      <th>Year</th>\n",
       "      <th>Month</th>\n",
       "      <th>DayofMonth</th>\n",
       "      <th>DayOfWeek</th>\n",
       "      <th>CRSDepTime</th>\n",
       "      <th>CRSArrTime</th>\n",
       "      <th>UniqueCarrier</th>\n",
       "      <th>FlightNum</th>\n",
       "      <th>ArrDelay</th>\n",
       "      <th>DepDelay</th>\n",
       "      <th>Origin</th>\n",
       "      <th>Dest</th>\n",
       "      <th>Cancelled</th>\n",
       "      <th>CancellationCode</th>\n",
       "      <th>Diverted</th>\n",
       "      <th>CarrierDelay</th>\n",
       "      <th>WeatherDelay</th>\n",
       "      <th>NASDelay</th>\n",
       "      <th>SecurityDelay</th>\n",
       "      <th>LateAircraftDelay</th>\n",
       "    </tr>\n",
       "  </thead>\n",
       "  <tbody>\n",
       "    <tr>\n",
       "      <th>0</th>\n",
       "      <td>2008</td>\n",
       "      <td>1</td>\n",
       "      <td>3</td>\n",
       "      <td>4</td>\n",
       "      <td>1955</td>\n",
       "      <td>2225</td>\n",
       "      <td>WN</td>\n",
       "      <td>335</td>\n",
       "      <td>-14.0</td>\n",
       "      <td>8.0</td>\n",
       "      <td>IAD</td>\n",
       "      <td>TPA</td>\n",
       "      <td>0</td>\n",
       "      <td>NaN</td>\n",
       "      <td>0</td>\n",
       "      <td>NaN</td>\n",
       "      <td>NaN</td>\n",
       "      <td>NaN</td>\n",
       "      <td>NaN</td>\n",
       "      <td>NaN</td>\n",
       "    </tr>\n",
       "    <tr>\n",
       "      <th>1</th>\n",
       "      <td>2008</td>\n",
       "      <td>1</td>\n",
       "      <td>3</td>\n",
       "      <td>4</td>\n",
       "      <td>735</td>\n",
       "      <td>1000</td>\n",
       "      <td>WN</td>\n",
       "      <td>3231</td>\n",
       "      <td>2.0</td>\n",
       "      <td>19.0</td>\n",
       "      <td>IAD</td>\n",
       "      <td>TPA</td>\n",
       "      <td>0</td>\n",
       "      <td>NaN</td>\n",
       "      <td>0</td>\n",
       "      <td>NaN</td>\n",
       "      <td>NaN</td>\n",
       "      <td>NaN</td>\n",
       "      <td>NaN</td>\n",
       "      <td>NaN</td>\n",
       "    </tr>\n",
       "    <tr>\n",
       "      <th>2</th>\n",
       "      <td>2008</td>\n",
       "      <td>1</td>\n",
       "      <td>3</td>\n",
       "      <td>4</td>\n",
       "      <td>620</td>\n",
       "      <td>750</td>\n",
       "      <td>WN</td>\n",
       "      <td>448</td>\n",
       "      <td>14.0</td>\n",
       "      <td>8.0</td>\n",
       "      <td>IND</td>\n",
       "      <td>BWI</td>\n",
       "      <td>0</td>\n",
       "      <td>NaN</td>\n",
       "      <td>0</td>\n",
       "      <td>NaN</td>\n",
       "      <td>NaN</td>\n",
       "      <td>NaN</td>\n",
       "      <td>NaN</td>\n",
       "      <td>NaN</td>\n",
       "    </tr>\n",
       "    <tr>\n",
       "      <th>5</th>\n",
       "      <td>2008</td>\n",
       "      <td>1</td>\n",
       "      <td>3</td>\n",
       "      <td>4</td>\n",
       "      <td>1915</td>\n",
       "      <td>2110</td>\n",
       "      <td>WN</td>\n",
       "      <td>378</td>\n",
       "      <td>11.0</td>\n",
       "      <td>25.0</td>\n",
       "      <td>IND</td>\n",
       "      <td>JAX</td>\n",
       "      <td>0</td>\n",
       "      <td>NaN</td>\n",
       "      <td>0</td>\n",
       "      <td>NaN</td>\n",
       "      <td>NaN</td>\n",
       "      <td>NaN</td>\n",
       "      <td>NaN</td>\n",
       "      <td>NaN</td>\n",
       "    </tr>\n",
       "    <tr>\n",
       "      <th>8</th>\n",
       "      <td>2008</td>\n",
       "      <td>1</td>\n",
       "      <td>3</td>\n",
       "      <td>4</td>\n",
       "      <td>615</td>\n",
       "      <td>650</td>\n",
       "      <td>WN</td>\n",
       "      <td>11</td>\n",
       "      <td>2.0</td>\n",
       "      <td>2.0</td>\n",
       "      <td>IND</td>\n",
       "      <td>MCI</td>\n",
       "      <td>0</td>\n",
       "      <td>NaN</td>\n",
       "      <td>0</td>\n",
       "      <td>NaN</td>\n",
       "      <td>NaN</td>\n",
       "      <td>NaN</td>\n",
       "      <td>NaN</td>\n",
       "      <td>NaN</td>\n",
       "    </tr>\n",
       "    <tr>\n",
       "      <th>...</th>\n",
       "      <td>...</td>\n",
       "      <td>...</td>\n",
       "      <td>...</td>\n",
       "      <td>...</td>\n",
       "      <td>...</td>\n",
       "      <td>...</td>\n",
       "      <td>...</td>\n",
       "      <td>...</td>\n",
       "      <td>...</td>\n",
       "      <td>...</td>\n",
       "      <td>...</td>\n",
       "      <td>...</td>\n",
       "      <td>...</td>\n",
       "      <td>...</td>\n",
       "      <td>...</td>\n",
       "      <td>...</td>\n",
       "      <td>...</td>\n",
       "      <td>...</td>\n",
       "      <td>...</td>\n",
       "      <td>...</td>\n",
       "    </tr>\n",
       "    <tr>\n",
       "      <th>7009720</th>\n",
       "      <td>2008</td>\n",
       "      <td>12</td>\n",
       "      <td>13</td>\n",
       "      <td>6</td>\n",
       "      <td>800</td>\n",
       "      <td>1026</td>\n",
       "      <td>DL</td>\n",
       "      <td>1633</td>\n",
       "      <td>6.0</td>\n",
       "      <td>-4.0</td>\n",
       "      <td>MSY</td>\n",
       "      <td>ATL</td>\n",
       "      <td>0</td>\n",
       "      <td>NaN</td>\n",
       "      <td>0</td>\n",
       "      <td>NaN</td>\n",
       "      <td>NaN</td>\n",
       "      <td>NaN</td>\n",
       "      <td>NaN</td>\n",
       "      <td>NaN</td>\n",
       "    </tr>\n",
       "    <tr>\n",
       "      <th>7009722</th>\n",
       "      <td>2008</td>\n",
       "      <td>12</td>\n",
       "      <td>13</td>\n",
       "      <td>6</td>\n",
       "      <td>750</td>\n",
       "      <td>859</td>\n",
       "      <td>DL</td>\n",
       "      <td>1636</td>\n",
       "      <td>2.0</td>\n",
       "      <td>-1.0</td>\n",
       "      <td>SAV</td>\n",
       "      <td>ATL</td>\n",
       "      <td>0</td>\n",
       "      <td>NaN</td>\n",
       "      <td>0</td>\n",
       "      <td>NaN</td>\n",
       "      <td>NaN</td>\n",
       "      <td>NaN</td>\n",
       "      <td>NaN</td>\n",
       "      <td>NaN</td>\n",
       "    </tr>\n",
       "    <tr>\n",
       "      <th>7009723</th>\n",
       "      <td>2008</td>\n",
       "      <td>12</td>\n",
       "      <td>13</td>\n",
       "      <td>6</td>\n",
       "      <td>959</td>\n",
       "      <td>1150</td>\n",
       "      <td>DL</td>\n",
       "      <td>1636</td>\n",
       "      <td>14.0</td>\n",
       "      <td>3.0</td>\n",
       "      <td>ATL</td>\n",
       "      <td>IAD</td>\n",
       "      <td>0</td>\n",
       "      <td>NaN</td>\n",
       "      <td>0</td>\n",
       "      <td>NaN</td>\n",
       "      <td>NaN</td>\n",
       "      <td>NaN</td>\n",
       "      <td>NaN</td>\n",
       "      <td>NaN</td>\n",
       "    </tr>\n",
       "    <tr>\n",
       "      <th>7009726</th>\n",
       "      <td>2008</td>\n",
       "      <td>12</td>\n",
       "      <td>13</td>\n",
       "      <td>6</td>\n",
       "      <td>1240</td>\n",
       "      <td>1437</td>\n",
       "      <td>DL</td>\n",
       "      <td>1639</td>\n",
       "      <td>9.0</td>\n",
       "      <td>11.0</td>\n",
       "      <td>IAD</td>\n",
       "      <td>ATL</td>\n",
       "      <td>0</td>\n",
       "      <td>NaN</td>\n",
       "      <td>0</td>\n",
       "      <td>NaN</td>\n",
       "      <td>NaN</td>\n",
       "      <td>NaN</td>\n",
       "      <td>NaN</td>\n",
       "      <td>NaN</td>\n",
       "    </tr>\n",
       "    <tr>\n",
       "      <th>7009727</th>\n",
       "      <td>2008</td>\n",
       "      <td>12</td>\n",
       "      <td>13</td>\n",
       "      <td>6</td>\n",
       "      <td>1103</td>\n",
       "      <td>1418</td>\n",
       "      <td>DL</td>\n",
       "      <td>1641</td>\n",
       "      <td>-5.0</td>\n",
       "      <td>7.0</td>\n",
       "      <td>SAT</td>\n",
       "      <td>ATL</td>\n",
       "      <td>0</td>\n",
       "      <td>NaN</td>\n",
       "      <td>0</td>\n",
       "      <td>NaN</td>\n",
       "      <td>NaN</td>\n",
       "      <td>NaN</td>\n",
       "      <td>NaN</td>\n",
       "      <td>NaN</td>\n",
       "    </tr>\n",
       "  </tbody>\n",
       "</table>\n",
       "<p>2106743 rows × 20 columns</p>\n",
       "</div>"
      ],
      "text/plain": [
       "         Year  Month  DayofMonth  DayOfWeek  CRSDepTime  CRSArrTime  \\\n",
       "0        2008      1           3          4        1955        2225   \n",
       "1        2008      1           3          4         735        1000   \n",
       "2        2008      1           3          4         620         750   \n",
       "5        2008      1           3          4        1915        2110   \n",
       "8        2008      1           3          4         615         650   \n",
       "...       ...    ...         ...        ...         ...         ...   \n",
       "7009720  2008     12          13          6         800        1026   \n",
       "7009722  2008     12          13          6         750         859   \n",
       "7009723  2008     12          13          6         959        1150   \n",
       "7009726  2008     12          13          6        1240        1437   \n",
       "7009727  2008     12          13          6        1103        1418   \n",
       "\n",
       "        UniqueCarrier  FlightNum  ArrDelay  DepDelay Origin Dest  Cancelled  \\\n",
       "0                  WN        335     -14.0       8.0    IAD  TPA          0   \n",
       "1                  WN       3231       2.0      19.0    IAD  TPA          0   \n",
       "2                  WN        448      14.0       8.0    IND  BWI          0   \n",
       "5                  WN        378      11.0      25.0    IND  JAX          0   \n",
       "8                  WN         11       2.0       2.0    IND  MCI          0   \n",
       "...               ...        ...       ...       ...    ...  ...        ...   \n",
       "7009720            DL       1633       6.0      -4.0    MSY  ATL          0   \n",
       "7009722            DL       1636       2.0      -1.0    SAV  ATL          0   \n",
       "7009723            DL       1636      14.0       3.0    ATL  IAD          0   \n",
       "7009726            DL       1639       9.0      11.0    IAD  ATL          0   \n",
       "7009727            DL       1641      -5.0       7.0    SAT  ATL          0   \n",
       "\n",
       "        CancellationCode  Diverted  CarrierDelay  WeatherDelay  NASDelay  \\\n",
       "0                    NaN         0           NaN           NaN       NaN   \n",
       "1                    NaN         0           NaN           NaN       NaN   \n",
       "2                    NaN         0           NaN           NaN       NaN   \n",
       "5                    NaN         0           NaN           NaN       NaN   \n",
       "8                    NaN         0           NaN           NaN       NaN   \n",
       "...                  ...       ...           ...           ...       ...   \n",
       "7009720              NaN         0           NaN           NaN       NaN   \n",
       "7009722              NaN         0           NaN           NaN       NaN   \n",
       "7009723              NaN         0           NaN           NaN       NaN   \n",
       "7009726              NaN         0           NaN           NaN       NaN   \n",
       "7009727              NaN         0           NaN           NaN       NaN   \n",
       "\n",
       "         SecurityDelay  LateAircraftDelay  \n",
       "0                  NaN                NaN  \n",
       "1                  NaN                NaN  \n",
       "2                  NaN                NaN  \n",
       "5                  NaN                NaN  \n",
       "8                  NaN                NaN  \n",
       "...                ...                ...  \n",
       "7009720            NaN                NaN  \n",
       "7009722            NaN                NaN  \n",
       "7009723            NaN                NaN  \n",
       "7009726            NaN                NaN  \n",
       "7009727            NaN                NaN  \n",
       "\n",
       "[2106743 rows x 20 columns]"
      ]
     },
     "execution_count": 21,
     "metadata": {},
     "output_type": "execute_result"
    }
   ],
   "source": [
    "# Check if any of the delay reason columns is null when the flight has a \n",
    "# positive number of arrival or departure delay minutes.\n",
    "df_flights[((df_flights['CarrierDelay'].isna()) | \n",
    "          (df_flights['WeatherDelay'].isna()) |\n",
    "          (df_flights['NASDelay'].isna()) |\n",
    "          (df_flights['SecurityDelay'].isna()) |\n",
    "          (df_flights['LateAircraftDelay'].isna())) & \n",
    "          ((df_flights['ArrDelay'] > 0)|\n",
    "          (df_flights['DepDelay'] > 0))]"
   ]
  },
  {
   "cell_type": "markdown",
   "metadata": {},
   "source": [
    "Here we have a number of flights that were actually delayed but no reason was noted. It looks like all of these have arrival delays of less than 15 minutes, however. As a general rule of thumb, 15 minutes is the threshold for calling a flight delayed. Let's check if all arrival delays over 15 minutes have values in these delay reason columns."
   ]
  },
  {
   "cell_type": "code",
   "execution_count": 22,
   "metadata": {},
   "outputs": [
    {
     "data": {
      "text/html": [
       "<div>\n",
       "<style scoped>\n",
       "    .dataframe tbody tr th:only-of-type {\n",
       "        vertical-align: middle;\n",
       "    }\n",
       "\n",
       "    .dataframe tbody tr th {\n",
       "        vertical-align: top;\n",
       "    }\n",
       "\n",
       "    .dataframe thead th {\n",
       "        text-align: right;\n",
       "    }\n",
       "</style>\n",
       "<table border=\"1\" class=\"dataframe\">\n",
       "  <thead>\n",
       "    <tr style=\"text-align: right;\">\n",
       "      <th></th>\n",
       "      <th>Year</th>\n",
       "      <th>Month</th>\n",
       "      <th>DayofMonth</th>\n",
       "      <th>DayOfWeek</th>\n",
       "      <th>CRSDepTime</th>\n",
       "      <th>CRSArrTime</th>\n",
       "      <th>UniqueCarrier</th>\n",
       "      <th>FlightNum</th>\n",
       "      <th>ArrDelay</th>\n",
       "      <th>DepDelay</th>\n",
       "      <th>Origin</th>\n",
       "      <th>Dest</th>\n",
       "      <th>Cancelled</th>\n",
       "      <th>CancellationCode</th>\n",
       "      <th>Diverted</th>\n",
       "      <th>CarrierDelay</th>\n",
       "      <th>WeatherDelay</th>\n",
       "      <th>NASDelay</th>\n",
       "      <th>SecurityDelay</th>\n",
       "      <th>LateAircraftDelay</th>\n",
       "    </tr>\n",
       "  </thead>\n",
       "  <tbody>\n",
       "  </tbody>\n",
       "</table>\n",
       "</div>"
      ],
      "text/plain": [
       "Empty DataFrame\n",
       "Columns: [Year, Month, DayofMonth, DayOfWeek, CRSDepTime, CRSArrTime, UniqueCarrier, FlightNum, ArrDelay, DepDelay, Origin, Dest, Cancelled, CancellationCode, Diverted, CarrierDelay, WeatherDelay, NASDelay, SecurityDelay, LateAircraftDelay]\n",
       "Index: []"
      ]
     },
     "execution_count": 22,
     "metadata": {},
     "output_type": "execute_result"
    }
   ],
   "source": [
    "# Check if there are nulls in the delay reason columns when \n",
    "# a flight has an arrival delay of at least 15 mintues\n",
    "df_flights[((df_flights['CarrierDelay'].isna()) | \n",
    "          (df_flights['WeatherDelay'].isna()) |\n",
    "          (df_flights['NASDelay'].isna()) |\n",
    "          (df_flights['SecurityDelay'].isna()) |\n",
    "          (df_flights['LateAircraftDelay'].isna())) & \n",
    "          (df_flights['ArrDelay'] >= 15)]"
   ]
  },
  {
   "cell_type": "markdown",
   "metadata": {},
   "source": [
    "We can see that all flights with an arrival delay of 15 minutes or more do not have nulls in any of the delay reason columns. Let's check if it is possible to have values in those columns if the arrival delay is less than 15 minutes, or will they all be null?"
   ]
  },
  {
   "cell_type": "code",
   "execution_count": 23,
   "metadata": {},
   "outputs": [
    {
     "data": {
      "text/html": [
       "<div>\n",
       "<style scoped>\n",
       "    .dataframe tbody tr th:only-of-type {\n",
       "        vertical-align: middle;\n",
       "    }\n",
       "\n",
       "    .dataframe tbody tr th {\n",
       "        vertical-align: top;\n",
       "    }\n",
       "\n",
       "    .dataframe thead th {\n",
       "        text-align: right;\n",
       "    }\n",
       "</style>\n",
       "<table border=\"1\" class=\"dataframe\">\n",
       "  <thead>\n",
       "    <tr style=\"text-align: right;\">\n",
       "      <th></th>\n",
       "      <th>Year</th>\n",
       "      <th>Month</th>\n",
       "      <th>DayofMonth</th>\n",
       "      <th>DayOfWeek</th>\n",
       "      <th>CRSDepTime</th>\n",
       "      <th>CRSArrTime</th>\n",
       "      <th>UniqueCarrier</th>\n",
       "      <th>FlightNum</th>\n",
       "      <th>ArrDelay</th>\n",
       "      <th>DepDelay</th>\n",
       "      <th>Origin</th>\n",
       "      <th>Dest</th>\n",
       "      <th>Cancelled</th>\n",
       "      <th>CancellationCode</th>\n",
       "      <th>Diverted</th>\n",
       "      <th>CarrierDelay</th>\n",
       "      <th>WeatherDelay</th>\n",
       "      <th>NASDelay</th>\n",
       "      <th>SecurityDelay</th>\n",
       "      <th>LateAircraftDelay</th>\n",
       "    </tr>\n",
       "  </thead>\n",
       "  <tbody>\n",
       "  </tbody>\n",
       "</table>\n",
       "</div>"
      ],
      "text/plain": [
       "Empty DataFrame\n",
       "Columns: [Year, Month, DayofMonth, DayOfWeek, CRSDepTime, CRSArrTime, UniqueCarrier, FlightNum, ArrDelay, DepDelay, Origin, Dest, Cancelled, CancellationCode, Diverted, CarrierDelay, WeatherDelay, NASDelay, SecurityDelay, LateAircraftDelay]\n",
       "Index: []"
      ]
     },
     "execution_count": 23,
     "metadata": {},
     "output_type": "execute_result"
    }
   ],
   "source": [
    "# Check if there are values in the delay reason columns when \n",
    "# a flight has an arrival delay of less than 15 mintues\n",
    "df_flights[~((df_flights['CarrierDelay'].isna()) & \n",
    "          (df_flights['WeatherDelay'].isna()) &\n",
    "          (df_flights['NASDelay'].isna()) &\n",
    "          (df_flights['SecurityDelay'].isna()) &\n",
    "          (df_flights['LateAircraftDelay'].isna())) & \n",
    "          (df_flights['ArrDelay'] < 15)]"
   ]
  },
  {
   "cell_type": "markdown",
   "metadata": {},
   "source": [
    "So it is possible that flights with arrival delays of less than 15 minutes will have a value in at least one of the delay reason columns, but we've also seen that they may not. A more interesting result of this query is that there are some records that have a negative departure delay and a negative arrival delay and they don't have nulls. All of the departure reason columns have 0's instead. Given that this means that a non-delayed flight can have 0's in these columns instead of nulls, then for consistency it makes sense to fill our nulls in all of these columns with 0's."
   ]
  },
  {
   "cell_type": "code",
   "execution_count": 24,
   "metadata": {},
   "outputs": [],
   "source": [
    "# Remove nulls from each of the delay reason columns \n",
    "delay_reason_cols = ['CarrierDelay', 'WeatherDelay', 'NASDelay', 'SecurityDelay', 'LateAircraftDelay']\n",
    "for col in delay_reason_cols:\n",
    "    df_flights[col].fillna(0, inplace=True)"
   ]
  },
  {
   "cell_type": "code",
   "execution_count": 25,
   "metadata": {},
   "outputs": [
    {
     "name": "stdout",
     "output_type": "stream",
     "text": [
      "# of nulls for CarrierDelay: 0\n",
      "# of nulls for WeatherDelay: 0\n",
      "# of nulls for NASDelay: 0\n",
      "# of nulls for SecurityDelay: 0\n",
      "# of nulls for LateAircraftDelay: 0\n"
     ]
    }
   ],
   "source": [
    "# Ensure that the columns have no more nulls. All should return 0\n",
    "for col in delay_reason_cols:\n",
    "    print('# of nulls for '+ col + ': {}'.format(sum(df_flights[df_flights[col].isna()].count())))"
   ]
  },
  {
   "cell_type": "markdown",
   "metadata": {},
   "source": [
    "Next, let's finally fix our data types. `Diverted` and `Cancelled` will be converted to Boolean. Other fields will be reduced from 64-bits where possible. We'll address `CRSDepTime` and `CRSArrTime` shortly as their conversion is a bit more complicated. "
   ]
  },
  {
   "cell_type": "code",
   "execution_count": 26,
   "metadata": {},
   "outputs": [],
   "source": [
    "# Convert all floats and integers to 16 bit (instead of 32)\n",
    "# Convert Cancelled and Diverted to boolean\n",
    "df_flights['Year'] = df_flights['Year'].astype(np.int16)\n",
    "df_flights['Month'] = df_flights['Month'].astype(np.int16)\n",
    "df_flights['DayofMonth'] = df_flights['DayofMonth'].astype(np.int16)\n",
    "df_flights['DayOfWeek'] = df_flights['DayOfWeek'].astype(np.int16)\n",
    "df_flights['FlightNum'] = df_flights['FlightNum'].astype(np.int16)\n",
    "df_flights['ArrDelay'] = df_flights['ArrDelay'].astype(np.float16)\n",
    "df_flights['DepDelay'] = df_flights['DepDelay'].astype(np.float16)\n",
    "df_flights['Cancelled'] = df_flights['Cancelled'].astype(bool)\n",
    "df_flights['Diverted'] = df_flights['Diverted'].astype(bool)\n",
    "df_flights['CarrierDelay'] = df_flights['CarrierDelay'].astype(np.float16)\n",
    "df_flights['WeatherDelay'] = df_flights['WeatherDelay'].astype(np.float16)\n",
    "df_flights['NASDelay'] = df_flights['NASDelay'].astype(np.float16)\n",
    "df_flights['SecurityDelay'] = df_flights['SecurityDelay'].astype(np.float16)\n",
    "df_flights['LateAircraftDelay'] = df_flights['LateAircraftDelay'].astype(np.float16)"
   ]
  },
  {
   "cell_type": "code",
   "execution_count": 27,
   "metadata": {
    "scrolled": true
   },
   "outputs": [
    {
     "name": "stdout",
     "output_type": "stream",
     "text": [
      "<class 'pandas.core.frame.DataFrame'>\n",
      "RangeIndex: 7009728 entries, 0 to 7009727\n",
      "Data columns (total 20 columns):\n",
      " #   Column             Dtype  \n",
      "---  ------             -----  \n",
      " 0   Year               int16  \n",
      " 1   Month              int16  \n",
      " 2   DayofMonth         int16  \n",
      " 3   DayOfWeek          int16  \n",
      " 4   CRSDepTime         int64  \n",
      " 5   CRSArrTime         int64  \n",
      " 6   UniqueCarrier      object \n",
      " 7   FlightNum          int16  \n",
      " 8   ArrDelay           float16\n",
      " 9   DepDelay           float16\n",
      " 10  Origin             object \n",
      " 11  Dest               object \n",
      " 12  Cancelled          bool   \n",
      " 13  CancellationCode   object \n",
      " 14  Diverted           bool   \n",
      " 15  CarrierDelay       float16\n",
      " 16  WeatherDelay       float16\n",
      " 17  NASDelay           float16\n",
      " 18  SecurityDelay      float16\n",
      " 19  LateAircraftDelay  float16\n",
      "dtypes: bool(2), float16(7), int16(5), int64(2), object(4)\n",
      "memory usage: 494.7+ MB\n"
     ]
    }
   ],
   "source": [
    "# Verify that our data types have been converted\n",
    "df_flights.info()"
   ]
  },
  {
   "cell_type": "markdown",
   "metadata": {},
   "source": [
    "Next, lets convert our `CRSDepTime` and `CRSArrTime` columns to dates. We'll actually convert them to the timedelta type, as this will allow us to perform calculations with them."
   ]
  },
  {
   "cell_type": "code",
   "execution_count": 28,
   "metadata": {},
   "outputs": [
    {
     "data": {
      "text/plain": [
       "2400"
      ]
     },
     "execution_count": 28,
     "metadata": {},
     "output_type": "execute_result"
    }
   ],
   "source": [
    "df_flights['CRSArrTime'].max()"
   ]
  },
  {
   "cell_type": "code",
   "execution_count": 29,
   "metadata": {},
   "outputs": [
    {
     "data": {
      "text/html": [
       "<div>\n",
       "<style scoped>\n",
       "    .dataframe tbody tr th:only-of-type {\n",
       "        vertical-align: middle;\n",
       "    }\n",
       "\n",
       "    .dataframe tbody tr th {\n",
       "        vertical-align: top;\n",
       "    }\n",
       "\n",
       "    .dataframe thead th {\n",
       "        text-align: right;\n",
       "    }\n",
       "</style>\n",
       "<table border=\"1\" class=\"dataframe\">\n",
       "  <thead>\n",
       "    <tr style=\"text-align: right;\">\n",
       "      <th></th>\n",
       "      <th>Year</th>\n",
       "      <th>Month</th>\n",
       "      <th>DayofMonth</th>\n",
       "      <th>DayOfWeek</th>\n",
       "      <th>CRSDepTime</th>\n",
       "      <th>CRSArrTime</th>\n",
       "      <th>UniqueCarrier</th>\n",
       "      <th>FlightNum</th>\n",
       "      <th>ArrDelay</th>\n",
       "      <th>DepDelay</th>\n",
       "      <th>Origin</th>\n",
       "      <th>Dest</th>\n",
       "      <th>Cancelled</th>\n",
       "      <th>CancellationCode</th>\n",
       "      <th>Diverted</th>\n",
       "      <th>CarrierDelay</th>\n",
       "      <th>WeatherDelay</th>\n",
       "      <th>NASDelay</th>\n",
       "      <th>SecurityDelay</th>\n",
       "      <th>LateAircraftDelay</th>\n",
       "    </tr>\n",
       "  </thead>\n",
       "  <tbody>\n",
       "    <tr>\n",
       "      <th>454781</th>\n",
       "      <td>2008</td>\n",
       "      <td>1</td>\n",
       "      <td>7</td>\n",
       "      <td>1</td>\n",
       "      <td>1115</td>\n",
       "      <td>2400</td>\n",
       "      <td>9E</td>\n",
       "      <td>2807</td>\n",
       "      <td>0.0</td>\n",
       "      <td>15.0</td>\n",
       "      <td>MSP</td>\n",
       "      <td>CID</td>\n",
       "      <td>False</td>\n",
       "      <td>NaN</td>\n",
       "      <td>True</td>\n",
       "      <td>0.0</td>\n",
       "      <td>0.0</td>\n",
       "      <td>0.0</td>\n",
       "      <td>0.0</td>\n",
       "      <td>0.0</td>\n",
       "    </tr>\n",
       "    <tr>\n",
       "      <th>455112</th>\n",
       "      <td>2008</td>\n",
       "      <td>1</td>\n",
       "      <td>5</td>\n",
       "      <td>6</td>\n",
       "      <td>805</td>\n",
       "      <td>2400</td>\n",
       "      <td>9E</td>\n",
       "      <td>2825</td>\n",
       "      <td>0.0</td>\n",
       "      <td>71.0</td>\n",
       "      <td>IDA</td>\n",
       "      <td>MSP</td>\n",
       "      <td>False</td>\n",
       "      <td>NaN</td>\n",
       "      <td>True</td>\n",
       "      <td>0.0</td>\n",
       "      <td>0.0</td>\n",
       "      <td>0.0</td>\n",
       "      <td>0.0</td>\n",
       "      <td>0.0</td>\n",
       "    </tr>\n",
       "    <tr>\n",
       "      <th>455680</th>\n",
       "      <td>2008</td>\n",
       "      <td>1</td>\n",
       "      <td>17</td>\n",
       "      <td>4</td>\n",
       "      <td>1910</td>\n",
       "      <td>2400</td>\n",
       "      <td>9E</td>\n",
       "      <td>2860</td>\n",
       "      <td>0.0</td>\n",
       "      <td>37.0</td>\n",
       "      <td>MSP</td>\n",
       "      <td>TVC</td>\n",
       "      <td>False</td>\n",
       "      <td>NaN</td>\n",
       "      <td>True</td>\n",
       "      <td>0.0</td>\n",
       "      <td>0.0</td>\n",
       "      <td>0.0</td>\n",
       "      <td>0.0</td>\n",
       "      <td>0.0</td>\n",
       "    </tr>\n",
       "    <tr>\n",
       "      <th>455946</th>\n",
       "      <td>2008</td>\n",
       "      <td>1</td>\n",
       "      <td>14</td>\n",
       "      <td>1</td>\n",
       "      <td>921</td>\n",
       "      <td>2400</td>\n",
       "      <td>9E</td>\n",
       "      <td>2874</td>\n",
       "      <td>0.0</td>\n",
       "      <td>6.0</td>\n",
       "      <td>DTW</td>\n",
       "      <td>TVC</td>\n",
       "      <td>False</td>\n",
       "      <td>NaN</td>\n",
       "      <td>True</td>\n",
       "      <td>0.0</td>\n",
       "      <td>0.0</td>\n",
       "      <td>0.0</td>\n",
       "      <td>0.0</td>\n",
       "      <td>0.0</td>\n",
       "    </tr>\n",
       "    <tr>\n",
       "      <th>457502</th>\n",
       "      <td>2008</td>\n",
       "      <td>1</td>\n",
       "      <td>16</td>\n",
       "      <td>3</td>\n",
       "      <td>2123</td>\n",
       "      <td>2400</td>\n",
       "      <td>9E</td>\n",
       "      <td>2930</td>\n",
       "      <td>0.0</td>\n",
       "      <td>-3.0</td>\n",
       "      <td>DTW</td>\n",
       "      <td>AVP</td>\n",
       "      <td>False</td>\n",
       "      <td>NaN</td>\n",
       "      <td>True</td>\n",
       "      <td>0.0</td>\n",
       "      <td>0.0</td>\n",
       "      <td>0.0</td>\n",
       "      <td>0.0</td>\n",
       "      <td>0.0</td>\n",
       "    </tr>\n",
       "    <tr>\n",
       "      <th>...</th>\n",
       "      <td>...</td>\n",
       "      <td>...</td>\n",
       "      <td>...</td>\n",
       "      <td>...</td>\n",
       "      <td>...</td>\n",
       "      <td>...</td>\n",
       "      <td>...</td>\n",
       "      <td>...</td>\n",
       "      <td>...</td>\n",
       "      <td>...</td>\n",
       "      <td>...</td>\n",
       "      <td>...</td>\n",
       "      <td>...</td>\n",
       "      <td>...</td>\n",
       "      <td>...</td>\n",
       "      <td>...</td>\n",
       "      <td>...</td>\n",
       "      <td>...</td>\n",
       "      <td>...</td>\n",
       "      <td>...</td>\n",
       "    </tr>\n",
       "    <tr>\n",
       "      <th>5267691</th>\n",
       "      <td>2008</td>\n",
       "      <td>9</td>\n",
       "      <td>26</td>\n",
       "      <td>5</td>\n",
       "      <td>730</td>\n",
       "      <td>2400</td>\n",
       "      <td>9E</td>\n",
       "      <td>5881</td>\n",
       "      <td>0.0</td>\n",
       "      <td>-5.0</td>\n",
       "      <td>TYS</td>\n",
       "      <td>DTW</td>\n",
       "      <td>False</td>\n",
       "      <td>NaN</td>\n",
       "      <td>True</td>\n",
       "      <td>0.0</td>\n",
       "      <td>0.0</td>\n",
       "      <td>0.0</td>\n",
       "      <td>0.0</td>\n",
       "      <td>0.0</td>\n",
       "    </tr>\n",
       "    <tr>\n",
       "      <th>5268708</th>\n",
       "      <td>2008</td>\n",
       "      <td>9</td>\n",
       "      <td>19</td>\n",
       "      <td>5</td>\n",
       "      <td>1145</td>\n",
       "      <td>2400</td>\n",
       "      <td>9E</td>\n",
       "      <td>5914</td>\n",
       "      <td>0.0</td>\n",
       "      <td>-2.0</td>\n",
       "      <td>BNA</td>\n",
       "      <td>MEM</td>\n",
       "      <td>False</td>\n",
       "      <td>NaN</td>\n",
       "      <td>True</td>\n",
       "      <td>0.0</td>\n",
       "      <td>0.0</td>\n",
       "      <td>0.0</td>\n",
       "      <td>0.0</td>\n",
       "      <td>0.0</td>\n",
       "    </tr>\n",
       "    <tr>\n",
       "      <th>5269484</th>\n",
       "      <td>2008</td>\n",
       "      <td>9</td>\n",
       "      <td>28</td>\n",
       "      <td>7</td>\n",
       "      <td>1350</td>\n",
       "      <td>2400</td>\n",
       "      <td>9E</td>\n",
       "      <td>5933</td>\n",
       "      <td>0.0</td>\n",
       "      <td>57.0</td>\n",
       "      <td>MEM</td>\n",
       "      <td>PHL</td>\n",
       "      <td>False</td>\n",
       "      <td>NaN</td>\n",
       "      <td>True</td>\n",
       "      <td>0.0</td>\n",
       "      <td>0.0</td>\n",
       "      <td>0.0</td>\n",
       "      <td>0.0</td>\n",
       "      <td>0.0</td>\n",
       "    </tr>\n",
       "    <tr>\n",
       "      <th>5269625</th>\n",
       "      <td>2008</td>\n",
       "      <td>9</td>\n",
       "      <td>19</td>\n",
       "      <td>5</td>\n",
       "      <td>1120</td>\n",
       "      <td>2400</td>\n",
       "      <td>9E</td>\n",
       "      <td>5936</td>\n",
       "      <td>0.0</td>\n",
       "      <td>-4.0</td>\n",
       "      <td>PHL</td>\n",
       "      <td>MEM</td>\n",
       "      <td>False</td>\n",
       "      <td>NaN</td>\n",
       "      <td>True</td>\n",
       "      <td>0.0</td>\n",
       "      <td>0.0</td>\n",
       "      <td>0.0</td>\n",
       "      <td>0.0</td>\n",
       "      <td>0.0</td>\n",
       "    </tr>\n",
       "    <tr>\n",
       "      <th>5270206</th>\n",
       "      <td>2008</td>\n",
       "      <td>9</td>\n",
       "      <td>12</td>\n",
       "      <td>5</td>\n",
       "      <td>935</td>\n",
       "      <td>2400</td>\n",
       "      <td>9E</td>\n",
       "      <td>5951</td>\n",
       "      <td>0.0</td>\n",
       "      <td>-2.0</td>\n",
       "      <td>MEM</td>\n",
       "      <td>BTR</td>\n",
       "      <td>False</td>\n",
       "      <td>NaN</td>\n",
       "      <td>True</td>\n",
       "      <td>0.0</td>\n",
       "      <td>0.0</td>\n",
       "      <td>0.0</td>\n",
       "      <td>0.0</td>\n",
       "      <td>0.0</td>\n",
       "    </tr>\n",
       "  </tbody>\n",
       "</table>\n",
       "<p>547 rows × 20 columns</p>\n",
       "</div>"
      ],
      "text/plain": [
       "         Year  Month  DayofMonth  DayOfWeek  CRSDepTime  CRSArrTime  \\\n",
       "454781   2008      1           7          1        1115        2400   \n",
       "455112   2008      1           5          6         805        2400   \n",
       "455680   2008      1          17          4        1910        2400   \n",
       "455946   2008      1          14          1         921        2400   \n",
       "457502   2008      1          16          3        2123        2400   \n",
       "...       ...    ...         ...        ...         ...         ...   \n",
       "5267691  2008      9          26          5         730        2400   \n",
       "5268708  2008      9          19          5        1145        2400   \n",
       "5269484  2008      9          28          7        1350        2400   \n",
       "5269625  2008      9          19          5        1120        2400   \n",
       "5270206  2008      9          12          5         935        2400   \n",
       "\n",
       "        UniqueCarrier  FlightNum  ArrDelay  DepDelay Origin Dest  Cancelled  \\\n",
       "454781             9E       2807       0.0      15.0    MSP  CID      False   \n",
       "455112             9E       2825       0.0      71.0    IDA  MSP      False   \n",
       "455680             9E       2860       0.0      37.0    MSP  TVC      False   \n",
       "455946             9E       2874       0.0       6.0    DTW  TVC      False   \n",
       "457502             9E       2930       0.0      -3.0    DTW  AVP      False   \n",
       "...               ...        ...       ...       ...    ...  ...        ...   \n",
       "5267691            9E       5881       0.0      -5.0    TYS  DTW      False   \n",
       "5268708            9E       5914       0.0      -2.0    BNA  MEM      False   \n",
       "5269484            9E       5933       0.0      57.0    MEM  PHL      False   \n",
       "5269625            9E       5936       0.0      -4.0    PHL  MEM      False   \n",
       "5270206            9E       5951       0.0      -2.0    MEM  BTR      False   \n",
       "\n",
       "        CancellationCode  Diverted  CarrierDelay  WeatherDelay  NASDelay  \\\n",
       "454781               NaN      True           0.0           0.0       0.0   \n",
       "455112               NaN      True           0.0           0.0       0.0   \n",
       "455680               NaN      True           0.0           0.0       0.0   \n",
       "455946               NaN      True           0.0           0.0       0.0   \n",
       "457502               NaN      True           0.0           0.0       0.0   \n",
       "...                  ...       ...           ...           ...       ...   \n",
       "5267691              NaN      True           0.0           0.0       0.0   \n",
       "5268708              NaN      True           0.0           0.0       0.0   \n",
       "5269484              NaN      True           0.0           0.0       0.0   \n",
       "5269625              NaN      True           0.0           0.0       0.0   \n",
       "5270206              NaN      True           0.0           0.0       0.0   \n",
       "\n",
       "         SecurityDelay  LateAircraftDelay  \n",
       "454781             0.0                0.0  \n",
       "455112             0.0                0.0  \n",
       "455680             0.0                0.0  \n",
       "455946             0.0                0.0  \n",
       "457502             0.0                0.0  \n",
       "...                ...                ...  \n",
       "5267691            0.0                0.0  \n",
       "5268708            0.0                0.0  \n",
       "5269484            0.0                0.0  \n",
       "5269625            0.0                0.0  \n",
       "5270206            0.0                0.0  \n",
       "\n",
       "[547 rows x 20 columns]"
      ]
     },
     "execution_count": 29,
     "metadata": {},
     "output_type": "execute_result"
    }
   ],
   "source": [
    "df_flights[df_flights['CRSArrTime']==2400]"
   ]
  },
  {
   "cell_type": "code",
   "execution_count": 30,
   "metadata": {},
   "outputs": [],
   "source": [
    "# Convert values of 2400 to 0, as they both represent the same time\n",
    "df_flights.loc[df_flights['CRSDepTime']==2400]=0\n",
    "df_flights.loc[df_flights['CRSArrTime']==2400]=0\n",
    "# Convert the columns by using floor division to extract the hour\n",
    "# and mod division to extract the minutes. Both the hour and the minutes\n",
    "# are converted to timedelta format and then added together to get the full time in proper format\n",
    "df_flights['CRSDepTime'] = (pd.to_timedelta(df_flights['CRSDepTime']//100, unit='h') + \n",
    "                            pd.to_timedelta(df_flights['CRSDepTime']%100, unit='m'))\n",
    "df_flights['CRSArrTime'] = (pd.to_timedelta(df_flights['CRSArrTime']//100, unit='h') + \n",
    "                            pd.to_timedelta(df_flights['CRSArrTime']%100, unit='m'))"
   ]
  },
  {
   "cell_type": "code",
   "execution_count": 31,
   "metadata": {
    "scrolled": true
   },
   "outputs": [
    {
     "name": "stdout",
     "output_type": "stream",
     "text": [
      "<class 'pandas.core.frame.DataFrame'>\n",
      "RangeIndex: 7009728 entries, 0 to 7009727\n",
      "Data columns (total 2 columns):\n",
      " #   Column      Dtype          \n",
      "---  ------      -----          \n",
      " 0   CRSDepTime  timedelta64[ns]\n",
      " 1   CRSArrTime  timedelta64[ns]\n",
      "dtypes: timedelta64[ns](2)\n",
      "memory usage: 107.0 MB\n"
     ]
    }
   ],
   "source": [
    "# Verify the data types are correct\n",
    "df_flights[['CRSDepTime', 'CRSArrTime']].info()"
   ]
  },
  {
   "cell_type": "markdown",
   "metadata": {
    "scrolled": true
   },
   "source": [
    "Finally, let's check for duplicates."
   ]
  },
  {
   "cell_type": "code",
   "execution_count": 32,
   "metadata": {},
   "outputs": [
    {
     "data": {
      "text/plain": [
       "550"
      ]
     },
     "execution_count": 32,
     "metadata": {},
     "output_type": "execute_result"
    }
   ],
   "source": [
    "sum(df_flights.duplicated())"
   ]
  },
  {
   "cell_type": "markdown",
   "metadata": {},
   "source": [
    "There are very few duplicates, however, we will still remove these from our set. "
   ]
  },
  {
   "cell_type": "code",
   "execution_count": 33,
   "metadata": {},
   "outputs": [],
   "source": [
    "# Drop duplicates\n",
    "df_flights.drop_duplicates(inplace=True)"
   ]
  },
  {
   "cell_type": "code",
   "execution_count": 34,
   "metadata": {},
   "outputs": [
    {
     "data": {
      "text/plain": [
       "0"
      ]
     },
     "execution_count": 34,
     "metadata": {},
     "output_type": "execute_result"
    }
   ],
   "source": [
    "# Check that the number of duplicates is now 0.\n",
    "sum(df_flights.duplicated())"
   ]
  },
  {
   "cell_type": "markdown",
   "metadata": {},
   "source": [
    "Let's take a quick look at our stats."
   ]
  },
  {
   "cell_type": "code",
   "execution_count": 35,
   "metadata": {},
   "outputs": [
    {
     "data": {
      "text/html": [
       "<div>\n",
       "<style scoped>\n",
       "    .dataframe tbody tr th:only-of-type {\n",
       "        vertical-align: middle;\n",
       "    }\n",
       "\n",
       "    .dataframe tbody tr th {\n",
       "        vertical-align: top;\n",
       "    }\n",
       "\n",
       "    .dataframe thead th {\n",
       "        text-align: right;\n",
       "    }\n",
       "</style>\n",
       "<table border=\"1\" class=\"dataframe\">\n",
       "  <thead>\n",
       "    <tr style=\"text-align: right;\">\n",
       "      <th></th>\n",
       "      <th>Year</th>\n",
       "      <th>Month</th>\n",
       "      <th>DayofMonth</th>\n",
       "      <th>DayOfWeek</th>\n",
       "      <th>CRSDepTime</th>\n",
       "      <th>CRSArrTime</th>\n",
       "      <th>FlightNum</th>\n",
       "      <th>ArrDelay</th>\n",
       "      <th>DepDelay</th>\n",
       "      <th>CarrierDelay</th>\n",
       "      <th>WeatherDelay</th>\n",
       "      <th>NASDelay</th>\n",
       "      <th>SecurityDelay</th>\n",
       "      <th>LateAircraftDelay</th>\n",
       "    </tr>\n",
       "  </thead>\n",
       "  <tbody>\n",
       "    <tr>\n",
       "      <th>count</th>\n",
       "      <td>7.009178e+06</td>\n",
       "      <td>7.009178e+06</td>\n",
       "      <td>7.009178e+06</td>\n",
       "      <td>7.009178e+06</td>\n",
       "      <td>7009178</td>\n",
       "      <td>7009178</td>\n",
       "      <td>7.009178e+06</td>\n",
       "      <td>7009178.0</td>\n",
       "      <td>7009178.0</td>\n",
       "      <td>7009178.0</td>\n",
       "      <td>7009178.0</td>\n",
       "      <td>7009178.0</td>\n",
       "      <td>7009178.0</td>\n",
       "      <td>7009178.0</td>\n",
       "    </tr>\n",
       "    <tr>\n",
       "      <th>mean</th>\n",
       "      <td>2.008000e+03</td>\n",
       "      <td>6.375266e+00</td>\n",
       "      <td>1.572803e+01</td>\n",
       "      <td>3.924172e+00</td>\n",
       "      <td>0 days 13:26:18.898116155</td>\n",
       "      <td>0 days 15:08:25.511807518</td>\n",
       "      <td>2.223996e+03</td>\n",
       "      <td>NaN</td>\n",
       "      <td>NaN</td>\n",
       "      <td>NaN</td>\n",
       "      <td>NaN</td>\n",
       "      <td>NaN</td>\n",
       "      <td>NaN</td>\n",
       "      <td>NaN</td>\n",
       "    </tr>\n",
       "    <tr>\n",
       "      <th>std</th>\n",
       "      <td>7.584556e-01</td>\n",
       "      <td>3.406754e+00</td>\n",
       "      <td>8.797018e+00</td>\n",
       "      <td>1.988259e+00</td>\n",
       "      <td>0 days 04:39:15.752689727</td>\n",
       "      <td>0 days 04:49:46.375306253</td>\n",
       "      <td>1.961629e+03</td>\n",
       "      <td>NaN</td>\n",
       "      <td>NaN</td>\n",
       "      <td>NaN</td>\n",
       "      <td>NaN</td>\n",
       "      <td>NaN</td>\n",
       "      <td>NaN</td>\n",
       "      <td>NaN</td>\n",
       "    </tr>\n",
       "    <tr>\n",
       "      <th>min</th>\n",
       "      <td>0.000000e+00</td>\n",
       "      <td>0.000000e+00</td>\n",
       "      <td>0.000000e+00</td>\n",
       "      <td>0.000000e+00</td>\n",
       "      <td>0 days 00:00:00</td>\n",
       "      <td>0 days 00:00:00</td>\n",
       "      <td>0.000000e+00</td>\n",
       "      <td>-519.0</td>\n",
       "      <td>-534.0</td>\n",
       "      <td>0.0</td>\n",
       "      <td>0.0</td>\n",
       "      <td>0.0</td>\n",
       "      <td>0.0</td>\n",
       "      <td>0.0</td>\n",
       "    </tr>\n",
       "    <tr>\n",
       "      <th>25%</th>\n",
       "      <td>2.008000e+03</td>\n",
       "      <td>3.000000e+00</td>\n",
       "      <td>8.000000e+00</td>\n",
       "      <td>2.000000e+00</td>\n",
       "      <td>0 days 09:25:00</td>\n",
       "      <td>0 days 11:15:00</td>\n",
       "      <td>6.220000e+02</td>\n",
       "      <td>-10.0</td>\n",
       "      <td>-4.0</td>\n",
       "      <td>0.0</td>\n",
       "      <td>0.0</td>\n",
       "      <td>0.0</td>\n",
       "      <td>0.0</td>\n",
       "      <td>0.0</td>\n",
       "    </tr>\n",
       "    <tr>\n",
       "      <th>50%</th>\n",
       "      <td>2.008000e+03</td>\n",
       "      <td>6.000000e+00</td>\n",
       "      <td>1.600000e+01</td>\n",
       "      <td>4.000000e+00</td>\n",
       "      <td>0 days 13:20:00</td>\n",
       "      <td>0 days 15:17:00</td>\n",
       "      <td>1.571000e+03</td>\n",
       "      <td>-2.0</td>\n",
       "      <td>-1.0</td>\n",
       "      <td>0.0</td>\n",
       "      <td>0.0</td>\n",
       "      <td>0.0</td>\n",
       "      <td>0.0</td>\n",
       "      <td>0.0</td>\n",
       "    </tr>\n",
       "    <tr>\n",
       "      <th>75%</th>\n",
       "      <td>2.008000e+03</td>\n",
       "      <td>9.000000e+00</td>\n",
       "      <td>2.300000e+01</td>\n",
       "      <td>6.000000e+00</td>\n",
       "      <td>0 days 17:15:00</td>\n",
       "      <td>0 days 19:07:00</td>\n",
       "      <td>3.517000e+03</td>\n",
       "      <td>11.0</td>\n",
       "      <td>8.0</td>\n",
       "      <td>0.0</td>\n",
       "      <td>0.0</td>\n",
       "      <td>0.0</td>\n",
       "      <td>0.0</td>\n",
       "      <td>0.0</td>\n",
       "    </tr>\n",
       "    <tr>\n",
       "      <th>max</th>\n",
       "      <td>2.008000e+03</td>\n",
       "      <td>1.200000e+01</td>\n",
       "      <td>3.100000e+01</td>\n",
       "      <td>7.000000e+00</td>\n",
       "      <td>0 days 23:59:00</td>\n",
       "      <td>0 days 23:59:00</td>\n",
       "      <td>9.743000e+03</td>\n",
       "      <td>2460.0</td>\n",
       "      <td>2468.0</td>\n",
       "      <td>2436.0</td>\n",
       "      <td>1352.0</td>\n",
       "      <td>1357.0</td>\n",
       "      <td>392.0</td>\n",
       "      <td>1316.0</td>\n",
       "    </tr>\n",
       "  </tbody>\n",
       "</table>\n",
       "</div>"
      ],
      "text/plain": [
       "               Year         Month    DayofMonth     DayOfWeek  \\\n",
       "count  7.009178e+06  7.009178e+06  7.009178e+06  7.009178e+06   \n",
       "mean   2.008000e+03  6.375266e+00  1.572803e+01  3.924172e+00   \n",
       "std    7.584556e-01  3.406754e+00  8.797018e+00  1.988259e+00   \n",
       "min    0.000000e+00  0.000000e+00  0.000000e+00  0.000000e+00   \n",
       "25%    2.008000e+03  3.000000e+00  8.000000e+00  2.000000e+00   \n",
       "50%    2.008000e+03  6.000000e+00  1.600000e+01  4.000000e+00   \n",
       "75%    2.008000e+03  9.000000e+00  2.300000e+01  6.000000e+00   \n",
       "max    2.008000e+03  1.200000e+01  3.100000e+01  7.000000e+00   \n",
       "\n",
       "                      CRSDepTime                 CRSArrTime     FlightNum  \\\n",
       "count                    7009178                    7009178  7.009178e+06   \n",
       "mean   0 days 13:26:18.898116155  0 days 15:08:25.511807518  2.223996e+03   \n",
       "std    0 days 04:39:15.752689727  0 days 04:49:46.375306253  1.961629e+03   \n",
       "min              0 days 00:00:00            0 days 00:00:00  0.000000e+00   \n",
       "25%              0 days 09:25:00            0 days 11:15:00  6.220000e+02   \n",
       "50%              0 days 13:20:00            0 days 15:17:00  1.571000e+03   \n",
       "75%              0 days 17:15:00            0 days 19:07:00  3.517000e+03   \n",
       "max              0 days 23:59:00            0 days 23:59:00  9.743000e+03   \n",
       "\n",
       "        ArrDelay   DepDelay  CarrierDelay  WeatherDelay   NASDelay  \\\n",
       "count  7009178.0  7009178.0     7009178.0     7009178.0  7009178.0   \n",
       "mean         NaN        NaN           NaN           NaN        NaN   \n",
       "std          NaN        NaN           NaN           NaN        NaN   \n",
       "min       -519.0     -534.0           0.0           0.0        0.0   \n",
       "25%        -10.0       -4.0           0.0           0.0        0.0   \n",
       "50%         -2.0       -1.0           0.0           0.0        0.0   \n",
       "75%         11.0        8.0           0.0           0.0        0.0   \n",
       "max       2460.0     2468.0        2436.0        1352.0     1357.0   \n",
       "\n",
       "       SecurityDelay  LateAircraftDelay  \n",
       "count      7009178.0          7009178.0  \n",
       "mean             NaN                NaN  \n",
       "std              NaN                NaN  \n",
       "min              0.0                0.0  \n",
       "25%              0.0                0.0  \n",
       "50%              0.0                0.0  \n",
       "75%              0.0                0.0  \n",
       "max            392.0             1316.0  "
      ]
     },
     "execution_count": 35,
     "metadata": {},
     "output_type": "execute_result"
    }
   ],
   "source": [
    "df_flights.describe()"
   ]
  },
  {
   "cell_type": "markdown",
   "metadata": {},
   "source": [
    "Let's also get a final count of rows and columns."
   ]
  },
  {
   "cell_type": "code",
   "execution_count": 36,
   "metadata": {},
   "outputs": [
    {
     "data": {
      "text/plain": [
       "(7009178, 20)"
      ]
     },
     "execution_count": 36,
     "metadata": {},
     "output_type": "execute_result"
    }
   ],
   "source": [
    "df_flights.shape"
   ]
  },
  {
   "cell_type": "markdown",
   "metadata": {},
   "source": [
    "As we progressed through the assessment, we didn't find any other quality issues to be addressed. "
   ]
  },
  {
   "cell_type": "markdown",
   "metadata": {},
   "source": [
    "### What is the structure of your dataset?\n",
    "\n",
    "As we can see above, our cleaned dataset contains 35,874,671 rows and 20 columns. Most of columns are of a numeric type: `Year`, `Month`, `DayofMonth`, `DayOfWeek` and `FlightNum` are discrete integers, the first four being categorical. `ArrDelay`, `DepDelay`, `CarrierDelay`, `WeatherDelay`, `NASDelay`, `SecurityDelay`, `LateAircraftDelay` are all continuous float types.\n",
    "\n",
    "`UniqueCarrier`, `Origin`, `Dest` and `CancellationCode` are categorical text fields. `Cancelled` and `Diverted` have been converted to boolean type. Finally, `CRSDepTime` and `CRSArrTime` have been converted to time types (specifically, timedelta type).\n",
    "\n",
    "### What is/are the main feature(s) of interest in your dataset?\n",
    "\n",
    "We're going to be exploring flight cancellations and their reasons. In particular, are there patterns by time of day, time of year, origin and destination? Are particular carriers or flights particularly prone to issues?\n",
    "\n",
    "Time permitting we may wish to investigate delays in subseqent iterations of this project.\n",
    "\n",
    "### What features in the dataset do you think will help support your investigation into your feature(s) of interest?\n",
    "\n",
    "All of the columns that we've retainted will be of interest, but these in particular: \n",
    "- `Month`\n",
    "- `DayOfWeek`\n",
    "- `CRSDepTime`\n",
    "- `CRSArrTime`\n",
    "- `UniqueCarrier`\n",
    "- `FlightNum`\n",
    "- `Origin`\n",
    "- `Dest`\n",
    "- `Cancelled`\n",
    "- `CancellationCode`"
   ]
  },
  {
   "cell_type": "markdown",
   "metadata": {},
   "source": [
    "## Univariate Exploration\n",
    "\n",
    "> In this section, investigate distributions of individual variables. If\n",
    "you see unusual points or outliers, take a deeper look to clean things up\n",
    "and prepare yourself to look at relationships between variables."
   ]
  },
  {
   "cell_type": "markdown",
   "metadata": {},
   "source": [
    "> Make sure that, after every plot or related series of plots, that you\n",
    "include a Markdown cell with comments about what you observed, and what\n",
    "you plan on investigating next."
   ]
  },
  {
   "cell_type": "markdown",
   "metadata": {},
   "source": [
    "We will now explore our dataset using various plots."
   ]
  },
  {
   "cell_type": "markdown",
   "metadata": {},
   "source": [
    "First, let's look at the distribution of our set of flights over month, day of month and day of week. We want to see how the flights in our dataset are distributed with respect to time of year, days within the month and day of week.  We would expeact that they should be evenly distributed, i.e. there are roughly the same number in each category. If not, that could mean that our dataset has gaps or is incomplete."
   ]
  },
  {
   "cell_type": "code",
   "execution_count": 73,
   "metadata": {
    "scrolled": true
   },
   "outputs": [
    {
     "data": {
      "text/html": [
       "<div>\n",
       "<style scoped>\n",
       "    .dataframe tbody tr th:only-of-type {\n",
       "        vertical-align: middle;\n",
       "    }\n",
       "\n",
       "    .dataframe tbody tr th {\n",
       "        vertical-align: top;\n",
       "    }\n",
       "\n",
       "    .dataframe thead th {\n",
       "        text-align: right;\n",
       "    }\n",
       "</style>\n",
       "<table border=\"1\" class=\"dataframe\">\n",
       "  <thead>\n",
       "    <tr style=\"text-align: right;\">\n",
       "      <th></th>\n",
       "      <th>Year</th>\n",
       "      <th>Month</th>\n",
       "      <th>DayofMonth</th>\n",
       "      <th>DayOfWeek</th>\n",
       "      <th>CRSDepTime</th>\n",
       "      <th>CRSArrTime</th>\n",
       "      <th>UniqueCarrier</th>\n",
       "      <th>FlightNum</th>\n",
       "      <th>ArrDelay</th>\n",
       "      <th>DepDelay</th>\n",
       "      <th>Origin</th>\n",
       "      <th>Dest</th>\n",
       "      <th>Cancelled</th>\n",
       "      <th>CancellationCode</th>\n",
       "      <th>Diverted</th>\n",
       "      <th>CarrierDelay</th>\n",
       "      <th>WeatherDelay</th>\n",
       "      <th>NASDelay</th>\n",
       "      <th>SecurityDelay</th>\n",
       "      <th>LateAircraftDelay</th>\n",
       "    </tr>\n",
       "  </thead>\n",
       "  <tbody>\n",
       "    <tr>\n",
       "      <th>454781</th>\n",
       "      <td>0</td>\n",
       "      <td>0</td>\n",
       "      <td>0</td>\n",
       "      <td>0</td>\n",
       "      <td>0 days</td>\n",
       "      <td>0 days</td>\n",
       "      <td>0</td>\n",
       "      <td>0</td>\n",
       "      <td>0.0</td>\n",
       "      <td>0.0</td>\n",
       "      <td>0</td>\n",
       "      <td>0</td>\n",
       "      <td>0</td>\n",
       "      <td>0</td>\n",
       "      <td>0</td>\n",
       "      <td>0.0</td>\n",
       "      <td>0.0</td>\n",
       "      <td>0.0</td>\n",
       "      <td>0.0</td>\n",
       "      <td>0.0</td>\n",
       "    </tr>\n",
       "  </tbody>\n",
       "</table>\n",
       "</div>"
      ],
      "text/plain": [
       "        Year  Month  DayofMonth  DayOfWeek CRSDepTime CRSArrTime  \\\n",
       "454781     0      0           0          0     0 days     0 days   \n",
       "\n",
       "       UniqueCarrier  FlightNum  ArrDelay  DepDelay Origin Dest Cancelled  \\\n",
       "454781             0          0       0.0       0.0      0    0         0   \n",
       "\n",
       "       CancellationCode Diverted  CarrierDelay  WeatherDelay  NASDelay  \\\n",
       "454781                0        0           0.0           0.0       0.0   \n",
       "\n",
       "        SecurityDelay  LateAircraftDelay  \n",
       "454781            0.0                0.0  "
      ]
     },
     "execution_count": 73,
     "metadata": {},
     "output_type": "execute_result"
    }
   ],
   "source": [
    "df_flights[df_flights['Month']==0]"
   ]
  },
  {
   "cell_type": "code",
   "execution_count": 74,
   "metadata": {},
   "outputs": [],
   "source": [
    "df_flights = df_flights[df_flights['Month']!=0]"
   ]
  },
  {
   "cell_type": "code",
   "execution_count": 75,
   "metadata": {},
   "outputs": [
    {
     "data": {
      "text/html": [
       "<div>\n",
       "<style scoped>\n",
       "    .dataframe tbody tr th:only-of-type {\n",
       "        vertical-align: middle;\n",
       "    }\n",
       "\n",
       "    .dataframe tbody tr th {\n",
       "        vertical-align: top;\n",
       "    }\n",
       "\n",
       "    .dataframe thead th {\n",
       "        text-align: right;\n",
       "    }\n",
       "</style>\n",
       "<table border=\"1\" class=\"dataframe\">\n",
       "  <thead>\n",
       "    <tr style=\"text-align: right;\">\n",
       "      <th></th>\n",
       "      <th>Year</th>\n",
       "      <th>Month</th>\n",
       "      <th>DayofMonth</th>\n",
       "      <th>DayOfWeek</th>\n",
       "      <th>CRSDepTime</th>\n",
       "      <th>CRSArrTime</th>\n",
       "      <th>UniqueCarrier</th>\n",
       "      <th>FlightNum</th>\n",
       "      <th>ArrDelay</th>\n",
       "      <th>DepDelay</th>\n",
       "      <th>Origin</th>\n",
       "      <th>Dest</th>\n",
       "      <th>Cancelled</th>\n",
       "      <th>CancellationCode</th>\n",
       "      <th>Diverted</th>\n",
       "      <th>CarrierDelay</th>\n",
       "      <th>WeatherDelay</th>\n",
       "      <th>NASDelay</th>\n",
       "      <th>SecurityDelay</th>\n",
       "      <th>LateAircraftDelay</th>\n",
       "    </tr>\n",
       "  </thead>\n",
       "  <tbody>\n",
       "  </tbody>\n",
       "</table>\n",
       "</div>"
      ],
      "text/plain": [
       "Empty DataFrame\n",
       "Columns: [Year, Month, DayofMonth, DayOfWeek, CRSDepTime, CRSArrTime, UniqueCarrier, FlightNum, ArrDelay, DepDelay, Origin, Dest, Cancelled, CancellationCode, Diverted, CarrierDelay, WeatherDelay, NASDelay, SecurityDelay, LateAircraftDelay]\n",
       "Index: []"
      ]
     },
     "execution_count": 75,
     "metadata": {},
     "output_type": "execute_result"
    }
   ],
   "source": [
    "df_flights[df_flights['Month']==0]"
   ]
  },
  {
   "cell_type": "code",
   "execution_count": 77,
   "metadata": {},
   "outputs": [
    {
     "data": {
      "image/png": "[encoded data removed]",
      "text/plain": [
       "<Figure size 432x288 with 1 Axes>"
      ]
     },
     "metadata": {
      "needs_background": "light"
     },
     "output_type": "display_data"
    }
   ],
   "source": [
    "# Select a base color\n",
    "base_color = sb.color_palette()[0]\n",
    "\n",
    "# Plot total flights over each month\n",
    "ax=sb.countplot(data=df_flights, x='Month', color=base_color)\n",
    "plt.title('Total Flights per Month')\n",
    "plt.xlabel('Month (1=January, etc.)')\n",
    "plt.ylabel('No. of Flights');"
   ]
  },
  {
   "cell_type": "markdown",
   "metadata": {},
   "source": [
    "While there are some slight variations, the number of flights per month is roughly in the same range. Next, let's look at how flights are distributed per calendar day."
   ]
  },
  {
   "cell_type": "code",
   "execution_count": 81,
   "metadata": {},
   "outputs": [
    {
     "data": {
      "image/png": "[encoded data removed]",
      "text/plain": [
       "<Figure size 432x288 with 1 Axes>"
      ]
     },
     "metadata": {
      "needs_background": "light"
     },
     "output_type": "display_data"
    }
   ],
   "source": [
    "# Plot total flights over each calendar day\n",
    "ax=sb.countplot(data=df_flights, x='DayofMonth', color=base_color)\n",
    "plt.title('Total Flights per Calendar Day')\n",
    "plt.xlabel('Day of Month')\n",
    "plt.ylabel('No. of Flights')\n",
    "plt.xticks(rotation=45);"
   ]
  },
  {
   "cell_type": "markdown",
   "metadata": {},
   "source": [
    "We would expect that the number of flights would be roughly the same for each calendar day. But here we see substantially less for the 31st. This is actually expected due to there being five months every year with 30 days or less. As we saw from our plot above the number of flights per month is roughly the same, so our data set looks pretty evenly distributed with respect to dates. Next, let's look at days of the week."
   ]
  },
  {
   "cell_type": "code",
   "execution_count": 86,
   "metadata": {},
   "outputs": [
    {
     "data": {
      "image/png": "[encoded data removed]",
      "text/plain": [
       "<Figure size 432x288 with 1 Axes>"
      ]
     },
     "metadata": {
      "needs_background": "light"
     },
     "output_type": "display_data"
    }
   ],
   "source": [
    "# Set up our axes labels\n",
    "days_of_week = ['Monday', 'Tuesday', 'Wednesday', 'Thursday', 'Friday', 'Saturday', 'Sunday']\n",
    "ticks = np.arange(0,1100000,100000)\n",
    "labels = ['{}'.format(v) for v in np.arange(11)]\n",
    "\n",
    "# Plot total flights over each day of the week\n",
    "ax=sb.countplot(data=df_flights, x='DayOfWeek', color=base_color)\n",
    "plt.title('Total Flights per Day of Week')\n",
    "plt.xlabel('Month')\n",
    "plt.xticks(np.arange(0,7,1), days_of_week, rotation=45)\n",
    "plt.ylabel('No. of Flights per 100k')\n",
    "plt.yticks(ticks, labels);"
   ]
  },
  {
   "cell_type": "markdown",
   "metadata": {},
   "source": [
    "We can see from the above that there are slightly fewer flights on the weekends, Saturday in particular. Again, this is to be expected, as business travel makes up a large proportion of air travel."
   ]
  },
  {
   "cell_type": "markdown",
   "metadata": {},
   "source": [
    "Next, let's explore the distribution of our departure and arrival times."
   ]
  },
  {
   "cell_type": "code",
   "execution_count": 87,
   "metadata": {
    "scrolled": true
   },
   "outputs": [
    {
     "data": {
      "image/png": "[encoded data removed]",
      "text/plain": [
       "<Figure size 432x288 with 1 Axes>"
      ]
     },
     "metadata": {
      "needs_background": "light"
     },
     "output_type": "display_data"
    }
   ],
   "source": [
    "ax=sb.countplot(data=df_flights, x=df_flights['CRSDepTime'].astype('timedelta64[h]'), color=base_color)\n",
    "plt.title('Distribution of Flights by Scheduled Departure Time')\n",
    "plt.ylabel('No. of Flights')\n",
    "plt.xlabel('Departure Hour')\n",
    "labels=np.arange(0,24,1)\n",
    "plt.xticks(ticks=ax.get_xticks(),labels=labels);"
   ]
  },
  {
   "cell_type": "markdown",
   "metadata": {},
   "source": [
    "We can see that there seem to be more flights scheduled earlier in the day from 6am onward, dropping off slightly until around 8pm when they decrease significantly. From midnight to 6am, there are very few scheduled flights.\n",
    "\n",
    "Let's check schedule arrival times next."
   ]
  },
  {
   "cell_type": "code",
   "execution_count": 88,
   "metadata": {},
   "outputs": [
    {
     "data": {
      "image/png": "[encoded data removed]",
      "text/plain": [
       "<Figure size 432x288 with 1 Axes>"
      ]
     },
     "metadata": {
      "needs_background": "light"
     },
     "output_type": "display_data"
    }
   ],
   "source": [
    "ax=sb.countplot(data=df_flights, x=df_flights['CRSArrTime'].astype('timedelta64[h]'), color=base_color)\n",
    "plt.title('Distribution of Flights by Scheduled Arrival Time')\n",
    "plt.ylabel('No. of Flights')\n",
    "plt.xlabel('Arrival Hour')\n",
    "labels=np.arange(0,24,1)\n",
    "plt.xticks(ticks=ax.get_xticks(),labels=labels);"
   ]
  },
  {
   "cell_type": "markdown",
   "metadata": {},
   "source": [
    "Contrary to scheduled departure times, arrival times seem more normally distributed, increasing from 5am until midmorning, when they remain relatively consistent until they start dropping off around 9pm.\n",
    "\n",
    "In either case, there don't appear to be any suprises. One would expect that there would be fewer arrivals and departures in the early morning and late evening hours."
   ]
  },
  {
   "cell_type": "markdown",
   "metadata": {},
   "source": [
    "Now that we have looked at the distribution of our flights over time, let's explore origins and destinations. Because we're looking at flights in the United States, we expect that there are a large number of both. Let's check our value counts to see how many we're talking about."
   ]
  },
  {
   "cell_type": "code",
   "execution_count": 89,
   "metadata": {},
   "outputs": [
    {
     "data": {
      "text/plain": [
       "ATL    414511\n",
       "ORD    350380\n",
       "DFW    281279\n",
       "DEN    241441\n",
       "LAX    215608\n",
       "        ...  \n",
       "BJI        74\n",
       "INL        72\n",
       "TUP        10\n",
       "PIR         5\n",
       "PUB         2\n",
       "Name: Origin, Length: 303, dtype: int64"
      ]
     },
     "execution_count": 89,
     "metadata": {},
     "output_type": "execute_result"
    }
   ],
   "source": [
    "df_flights['Origin'].value_counts()"
   ]
  },
  {
   "cell_type": "code",
   "execution_count": 90,
   "metadata": {},
   "outputs": [
    {
     "data": {
      "text/plain": [
       "ATL    414521\n",
       "ORD    350452\n",
       "DFW    281400\n",
       "DEN    241462\n",
       "LAX    215685\n",
       "        ...  \n",
       "INL        72\n",
       "TUP         9\n",
       "PIR         5\n",
       "CYS         2\n",
       "OGD         2\n",
       "Name: Dest, Length: 304, dtype: int64"
      ]
     },
     "execution_count": 90,
     "metadata": {},
     "output_type": "execute_result"
    }
   ],
   "source": [
    "df_flights['Dest'].value_counts()"
   ]
  },
  {
   "cell_type": "markdown",
   "metadata": {},
   "source": [
    "So, we've got over 300 destinations and orgins in our dataset. Let's graph the top 20 of each."
   ]
  },
  {
   "cell_type": "code",
   "execution_count": 91,
   "metadata": {},
   "outputs": [
    {
     "data": {
      "image/png": "[encoded data removed]",
      "text/plain": [
       "<Figure size 576x432 with 1 Axes>"
      ]
     },
     "metadata": {
      "needs_background": "light"
     },
     "output_type": "display_data"
    }
   ],
   "source": [
    "# Set figure size to make the graph easier to read\n",
    "plt.figure(figsize=(8, 6))\n",
    "# Plot total flights over the top 20 origins\n",
    "top_origins = df_flights['Origin'].value_counts().head(20)\n",
    "sb.barplot(x=top_origins.values, y=top_origins.index, color=base_color)\n",
    "plt.title('Top 20 Flight Origins')\n",
    "plt.ylabel('Airport Code')\n",
    "plt.xlabel('No. of Flights');\n",
    "\n",
    "# Calculate count and totals for proportion percentage\n",
    "type_counts = df_flights['Origin'].value_counts()\n",
    "n_origins = df_flights['Origin'].value_counts().sum()\n",
    "# Print the proportion text on the bars\n",
    "for i in range (20):\n",
    "    count = type_counts.iloc[i]\n",
    "    # Format percentage\n",
    "    pct_string = '{:0.1f}%'.format(100*count/n_origins)\n",
    "    # Print percentage at end of bar\n",
    "    plt.text(count-30000, i, pct_string, va='center', color='w')"
   ]
  },
  {
   "cell_type": "markdown",
   "metadata": {},
   "source": [
    "Atlanta has the most flights in our set, with almost 6% of the total, followed by Chicago O'Hare with 5% of the total.\n",
    "\n",
    "Let's look at the top 20 destinations next."
   ]
  },
  {
   "cell_type": "code",
   "execution_count": 92,
   "metadata": {},
   "outputs": [
    {
     "data": {
      "image/png": "[encoded data removed]",
      "text/plain": [
       "<Figure size 576x432 with 1 Axes>"
      ]
     },
     "metadata": {
      "needs_background": "light"
     },
     "output_type": "display_data"
    }
   ],
   "source": [
    "# Set figure size to make the graph easier to read\n",
    "plt.figure(figsize=(8, 6))\n",
    "# Plot total flights over the top 20 destinations\n",
    "top_dests = df_flights['Dest'].value_counts().head(20)\n",
    "sb.barplot(x=top_dests.values, y=top_dests.index, color=base_color)\n",
    "plt.title('Top 20 Flight Destinations')\n",
    "plt.ylabel('Airport Code')\n",
    "plt.xlabel('No. of Flights');\n",
    "\n",
    "# Calculate count and totals for proportion percentage\n",
    "type_counts = df_flights['Dest'].value_counts()\n",
    "n_dests = df_flights['Dest'].value_counts().sum()\n",
    "# Print the proportion text on the bars\n",
    "for i in range (20):\n",
    "    count = type_counts.iloc[i]\n",
    "    # Format percentage\n",
    "    pct_string = '{:0.1f}%'.format(100*count/n_dests)\n",
    "    # Print percentage at end of bar\n",
    "    plt.text(count-30000, i, pct_string, va='center', color='w')"
   ]
  },
  {
   "cell_type": "markdown",
   "metadata": {},
   "source": [
    "This is interesting. They look virtually identical. (I even had to double-check my code!) However, if we print the value counts driving each graph, we'll see why."
   ]
  },
  {
   "cell_type": "code",
   "execution_count": 93,
   "metadata": {
    "scrolled": true
   },
   "outputs": [
    {
     "data": {
      "text/plain": [
       "ATL    414511\n",
       "ORD    350380\n",
       "DFW    281279\n",
       "DEN    241441\n",
       "LAX    215608\n",
       "PHX    199408\n",
       "IAH    185169\n",
       "LAS    172875\n",
       "DTW    161890\n",
       "SFO    140587\n",
       "SLC    139088\n",
       "EWR    138506\n",
       "MCO    130872\n",
       "MSP    130239\n",
       "CLT    126042\n",
       "LGA    119134\n",
       "JFK    118804\n",
       "BOS    117908\n",
       "SEA    109069\n",
       "BWI    104073\n",
       "Name: Origin, dtype: int64"
      ]
     },
     "execution_count": 93,
     "metadata": {},
     "output_type": "execute_result"
    }
   ],
   "source": [
    "df_flights['Origin'].value_counts()[0:20]"
   ]
  },
  {
   "cell_type": "code",
   "execution_count": 94,
   "metadata": {},
   "outputs": [
    {
     "data": {
      "text/plain": [
       "ATL    414521\n",
       "ORD    350452\n",
       "DFW    281400\n",
       "DEN    241462\n",
       "LAX    215685\n",
       "PHX    199416\n",
       "IAH    185158\n",
       "LAS    172870\n",
       "DTW    161932\n",
       "SFO    140579\n",
       "SLC    139077\n",
       "EWR    138491\n",
       "MCO    130859\n",
       "MSP    130248\n",
       "CLT    126029\n",
       "LGA    119101\n",
       "JFK    118802\n",
       "BOS    117943\n",
       "SEA    109075\n",
       "BWI    104068\n",
       "Name: Dest, dtype: int64"
      ]
     },
     "execution_count": 94,
     "metadata": {},
     "output_type": "execute_result"
    }
   ],
   "source": [
    "df_flights['Dest'].value_counts()[0:20]"
   ]
  },
  {
   "cell_type": "markdown",
   "metadata": {},
   "source": [
    "As we can see, the ordering of the top twenty Origins and Destinations is identical and the counts are also almost identical. Thus, our graphs both look the same. This does make sense if you consider that most routes would likely be designed for a round-trip itinerary."
   ]
  },
  {
   "cell_type": "markdown",
   "metadata": {},
   "source": [
    "Next, let's explore carriers. Specifically, let's look at the top 10."
   ]
  },
  {
   "cell_type": "code",
   "execution_count": 95,
   "metadata": {},
   "outputs": [
    {
     "data": {
      "image/png": "[encoded data removed]",
      "text/plain": [
       "<Figure size 432x288 with 1 Axes>"
      ]
     },
     "metadata": {
      "needs_background": "light"
     },
     "output_type": "display_data"
    }
   ],
   "source": [
    "# Plot total flights over the top 10 carriers\n",
    "ticks = np.arange(0,1300000,100000)\n",
    "labels = ['{}'.format(v) for v in np.arange(13)]\n",
    "top_carriers = df_flights['UniqueCarrier'].value_counts().head(10)\n",
    "sb.barplot(x=top_carriers.values, y=top_carriers.index, color=base_color)\n",
    "plt.title('Top 10 Flight Carriers')\n",
    "plt.ylabel('Carrier Code')\n",
    "plt.xlabel('Flights per 100k')\n",
    "plt.xticks(ticks, labels);\n",
    "\n",
    "# Calculate count and totals for proportion percentage\n",
    "type_counts = df_flights['UniqueCarrier'].value_counts()\n",
    "n_carriers = df_flights['UniqueCarrier'].value_counts().sum()\n",
    "# Print the proportion text on the bars\n",
    "for i in range (10):\n",
    "    count = type_counts.iloc[i]\n",
    "    # Format percentage\n",
    "    pct_string = '{:0.1f}%'.format(100*count/n_carriers)\n",
    "    # Print percentage at end of bar\n",
    "    plt.text(count-125000, i, pct_string, va='center', color='w')"
   ]
  },
  {
   "cell_type": "markdown",
   "metadata": {},
   "source": [
    "We see that Southwest Airlines (WN) had the highest percentage of flights at 17.1%, followed by American (AA) with 8.6%."
   ]
  },
  {
   "cell_type": "markdown",
   "metadata": {},
   "source": [
    "Next, let's explore how cancellations and cancellation codes are distributed."
   ]
  },
  {
   "cell_type": "code",
   "execution_count": 96,
   "metadata": {},
   "outputs": [
    {
     "data": {
      "image/png": "[encoded data removed]",
      "text/plain": [
       "<Figure size 432x288 with 1 Axes>"
      ]
     },
     "metadata": {},
     "output_type": "display_data"
    }
   ],
   "source": [
    "# Sort counts of cancelled vs. non-called flights in prep for plotting\n",
    "sorted_cancel_counts = df_flights['Cancelled'].value_counts()\n",
    "# Plot pie chart of proportion of cancelled flights\n",
    "plt.pie(sorted_cancel_counts, labels = ['Not Cancelled', 'Cancelled'], startangle = 90, autopct='%1.1f%%');\n",
    "plt.axis('square')\n",
    "plt.title('Proportion of Cancelled Flights\\n');"
   ]
  },
  {
   "cell_type": "markdown",
   "metadata": {},
   "source": [
    "As we can see above, the overall proportion of flights that were cancelled is actually quite small: 2%. Next, let's look at the reasons that these flights were cancelled."
   ]
  },
  {
   "cell_type": "code",
   "execution_count": 97,
   "metadata": {
    "scrolled": true
   },
   "outputs": [
    {
     "data": {
      "image/png": "[encoded data removed]",
      "text/plain": [
       "<Figure size 432x288 with 1 Axes>"
      ]
     },
     "metadata": {
      "needs_background": "light"
     },
     "output_type": "display_data"
    }
   ],
   "source": [
    "# Plot total flights over each month\n",
    "#cancelation_codes = A =carrier, B = weather, C = NAS, D = security\n",
    "code_order = df_flights['CancellationCode'].value_counts().index[0:4]\n",
    "labels = code_order.map({'A': 'Carrier', 'B': 'Weather', 'C': 'NAS', 'D': 'Security',})\n",
    "ax=sb.countplot(data=df_flights, x='CancellationCode', color=base_color, order=code_order)\n",
    "plt.title('Cancellations by Type')\n",
    "plt.xlabel('Type')\n",
    "plt.xticks(ticks=ax.get_xticks(),labels=labels)\n",
    "plt.ylabel('No. of Flights')\n",
    "\n",
    "# Get total count of non-null values in order to calculate proportions    \n",
    "n_can_type = df_flights['CancellationCode'].value_counts()[0:4].sum()\n",
    "# Plot the proportion percentage above each bar\n",
    "for p in ax.patches:\n",
    "    height = p.get_height()\n",
    "    pct_string = '{:0.2f}%'.format(100*height/n_can_type)\n",
    "    ax.text(p.get_x()+ p.get_width()/2.0, height +500, pct_string, ha=\"center\");"
   ]
  },
  {
   "cell_type": "markdown",
   "metadata": {},
   "source": [
    "The first thing that stands out is that there are relatively few cancellations due to security reasons. Also, Weather and Carrier cancellations we almost equal at 39.95% and 39.53% respectively."
   ]
  },
  {
   "cell_type": "markdown",
   "metadata": {},
   "source": [
    "### Discuss the distribution(s) of your variable(s) of interest. Were there any unusual points? Did you need to perform any transformations?\n",
    "\n",
    "The distribution of flights was quite evenly distributed across time (i.e. months, days of month, days of week). Departure and arrival times were about what one would expect: More departures from 6am to 8pm, gradually tapering off throughout the day, with the fewest from the late evening to the early morning. Arrival times were similar, although they increased gradually over the morning hours, were steady over the day, until gradually tapering off in the evening. This actually makes sense, as flights are scheduled so that they arrive at destinations throughout the day. If any of these variables had not been what we would expect, then it would have raised the question as to whether or not we had a complete set of data for our time period.\n",
    "\n",
    "In terms of flight cancellations, we saw that overall, cancellations are relatively rare, making up only 2% of the data in our set. Also, the number of cancellations due to security reasons was extremely low (0.01%) as compared to the other three types.\n",
    "\n",
    "In terms of transformations, there were none to the data itself, this was largely dealt with in the wrangling phase. We did, however, have to remove one extraneous record that contained zeros for every column, which was discovered when plotting our distribution of months. Also, we improved the labeling to replace obsure coding (i.e. A, B, C, D) with text descriptions instead.\n",
    "\n",
    "### Of the features you investigated, were there any unusual distributions? Did you perform any operations on the data to tidy, adjust, or change the form of the data? If so, why did you do this?\n",
    "\n",
    "The distribution of cancellations by type is of note, especially that there is a near equal percentage of weather and carrier related cancellations. According to the [Bureau of Transportation Statistics](https://www.bts.gov/topics/airlines-and-airports/understanding-reporting-causes-flight-delays-and-cancellations), carrier related cancellations are when a cancellation \"was due to circumstances within the airline's control (e.g. maintenance or crew problems, aircraft cleaning, baggage loading, fueling, etc.)\" I would have assumed that weather cancellations would be more prevalent. \n",
    "\n",
    "Another surprise was that the top 20 airports for origins and destinations were virtually identical, including the proportions of each. As noted above, however, after some reflection this isn't necessarily all that surprising as most flights are likely scheduled with round-trip travel in mind."
   ]
  },
  {
   "cell_type": "markdown",
   "metadata": {},
   "source": [
    "## Bivariate Exploration\n",
    "\n",
    "> In this section, investigate relationships between pairs of variables in your\n",
    "data. Make sure the variables that you cover here have been introduced in some\n",
    "fashion in the previous section (univariate exploration)."
   ]
  },
  {
   "cell_type": "markdown",
   "metadata": {},
   "source": [
    "cancellation by month, day of week, departure time, carrier, origin, flight num\n",
    "same for cancellation code\n",
    "\n",
    "Month\n",
    "DayOfWeek\n",
    "CRSDepTime\n",
    "CRSArrTime\n",
    "UniqueCarrier\n",
    "FlightNum\n",
    "Origin\n",
    "Dest\n",
    "Cancelled\n",
    "CancellationCode"
   ]
  },
  {
   "cell_type": "markdown",
   "metadata": {},
   "source": [
    "Let's start by looking at cancellations per day of the week. Is there any particular day that stands out as being cancellation prone."
   ]
  },
  {
   "cell_type": "code",
   "execution_count": 104,
   "metadata": {
    "scrolled": false
   },
   "outputs": [
    {
     "data": {
      "image/png": "[encoded data removed]",
      "text/plain": [
       "<Figure size 432x288 with 1 Axes>"
      ]
     },
     "metadata": {
      "needs_background": "light"
     },
     "output_type": "display_data"
    }
   ],
   "source": [
    "sb.barplot(x=df_flights.groupby('DayOfWeek')['Cancelled'].sum().index,\n",
    "           y=df_flights.groupby('DayOfWeek')['Cancelled'].sum(),\n",
    "           color=base_color)\n",
    "\n",
    "plt.title('Total Cancellations by Day of Week')\n",
    "plt.ylabel('No. Cancelled')\n",
    "plt.xticks(np.arange(0,7,1), days_of_week, rotation=45);"
   ]
  },
  {
   "cell_type": "markdown",
   "metadata": {},
   "source": [
    "We see that the number of cancellations is highest on Friday and lowest on Saturday. However, what's important to remember here is the distribution of our number of flights per week. If you recall, flight numbers were pretty consistent from Monday to Friday, lower on Saturday, and almost back to back to the weekday level on Sunday. Thus the lower count of delays on Saturday should also take into account that there are fewer flights on Saturdays."
   ]
  },
  {
   "cell_type": "markdown",
   "metadata": {},
   "source": [
    "**Way to address the above?????**"
   ]
  },
  {
   "cell_type": "code",
   "execution_count": 139,
   "metadata": {},
   "outputs": [
    {
     "data": {
      "image/png": "[encoded data removed]",
      "text/plain": [
       "<Figure size 720x360 with 1 Axes>"
      ]
     },
     "metadata": {
      "needs_background": "light"
     },
     "output_type": "display_data"
    }
   ],
   "source": [
    "# Set figure size to make the graph easier to read\n",
    "plt.figure(figsize=(10,5))\n",
    "#Plot the \n",
    "ax=sb.countplot(data = df_flights, x = 'DayOfWeek', hue = 'CancellationCode')\n",
    "ax.legend((['Carrier', 'Weather', 'NAS', 'Security']), loc = 1, bbox_to_anchor = (1.25, 1.0),framealpha = 1, title='Cancellation Type')\n",
    "#ax.set(xlim=(0.25, 12.75))\n",
    "plt.title('Types of Cancellation per Day of Week');"
   ]
  },
  {
   "cell_type": "code",
   "execution_count": 103,
   "metadata": {},
   "outputs": [
    {
     "data": {
      "image/png": "[encoded data removed]",
      "text/plain": [
       "<Figure size 432x288 with 1 Axes>"
      ]
     },
     "metadata": {
      "needs_background": "light"
     },
     "output_type": "display_data"
    }
   ],
   "source": [
    "sb.barplot(x=df_flights.groupby('Month')['Cancelled'].sum().index,\n",
    "           y=df_flights.groupby('Month')['Cancelled'].sum(),\n",
    "           color=base_color)\n",
    "\n",
    "plt.title('Total Cancellations per Month')\n",
    "plt.ylabel('No. Cancelled');"
   ]
  },
  {
   "cell_type": "markdown",
   "metadata": {},
   "source": [
    "As we can see, cancellations are higher in the winter months. Let's plot cancellation types per month to see if this is indeed the case."
   ]
  },
  {
   "cell_type": "code",
   "execution_count": 133,
   "metadata": {
    "scrolled": false
   },
   "outputs": [
    {
     "data": {
      "image/png": "[encoded data removed]",
      "text/plain": [
       "<Figure size 1008x360 with 1 Axes>"
      ]
     },
     "metadata": {
      "needs_background": "light"
     },
     "output_type": "display_data"
    }
   ],
   "source": [
    "# Set figure size to make the graph easier to read\n",
    "plt.figure(figsize=(14,5))\n",
    "#Plot the \n",
    "ax=sb.countplot(data = df_flights, x = 'Month', hue = 'CancellationCode')\n",
    "ax.legend((['Carrier', 'Weather', 'NAS', 'Security']), loc = 1, bbox_to_anchor = (1.15, 1.0), framealpha = 1, title='Cancellation Type')\n",
    "#ax.set(xlim=(0.25, 12.75))\n",
    "plt.title('Types of Cancellation per Month');"
   ]
  },
  {
   "cell_type": "markdown",
   "metadata": {},
   "source": [
    "Here's where we need to be very careful as to how we interpret the cancellation codes. According to the Bureau of Transportation Statistics, the \"Weather\" cancellation code is used when \"significant meteorological conditions (actual or forecasted) that, **in the judgment of the carrier,** delays or prevents the operation of a flight such as tornado, blizzard or hurricane.\" However, cancellations labeled as \"NAS\" (which stands for National Aviation System) can also be for weather. The difference is that these cancellations were not made by the carriers, but instead by federal aviation authorities. So it is very likely that the higher number of cancellations is due to weather. This might also explain the spike in September, which is hurricane season in the southeastern U.S. Still, further research is necessary to confirm these suspicions."
   ]
  },
  {
   "cell_type": "markdown",
   "metadata": {},
   "source": [
    "Let's explore cancellations by departure time next."
   ]
  },
  {
   "cell_type": "code",
   "execution_count": 145,
   "metadata": {},
   "outputs": [
    {
     "data": {
      "image/png": "[encoded data removed]",
      "text/plain": [
       "<Figure size 432x288 with 1 Axes>"
      ]
     },
     "metadata": {
      "needs_background": "light"
     },
     "output_type": "display_data"
    }
   ],
   "source": [
    "ax=sb.barplot(x=df_flights.groupby(df_flights['CRSDepTime'].astype('timedelta64[h]'))['Cancelled'].sum().index,\n",
    "           y=df_flights.groupby(df_flights['CRSDepTime'].astype('timedelta64[h]'))['Cancelled'].sum(),\n",
    "           color=base_color)\n",
    "\n",
    "plt.title('Total Cancellations per Departure Time')\n",
    "plt.ylabel('No. Cancelled')\n",
    "plt.xlabel('Scheduled Departure Hour')\n",
    "labels=np.arange(0,24,1)\n",
    "plt.xticks(ticks=ax.get_xticks(),labels=labels);"
   ]
  },
  {
   "cell_type": "markdown",
   "metadata": {},
   "source": [
    "Here we can see that ther are clearly more cancellations for departures between 4pm and 6pm. Let's check the cancellation type to see if that tells us more."
   ]
  },
  {
   "cell_type": "code",
   "execution_count": 146,
   "metadata": {},
   "outputs": [
    {
     "data": {
      "image/png": "[encoded data removed]",
      "text/plain": [
       "<Figure size 1008x360 with 1 Axes>"
      ]
     },
     "metadata": {
      "needs_background": "light"
     },
     "output_type": "display_data"
    }
   ],
   "source": [
    "# Set figure size to make the graph easier to read\n",
    "plt.figure(figsize=(14,5))\n",
    "#Plot the \n",
    "ax=sb.countplot(data = df_flights, x = df_flights['CRSDepTime'].astype('timedelta64[h]'), hue = 'CancellationCode')\n",
    "ax.legend((['Carrier', 'Weather', 'NAS', 'Security']), loc = 1, bbox_to_anchor = (1.15, 1.0), framealpha = 1, title='Cancellation Type')\n",
    "#ax.set(xlim=(0.25, 12.75))\n",
    "plt.title('Types of Cancellation per Departure Hour');"
   ]
  },
  {
   "cell_type": "markdown",
   "metadata": {},
   "source": [
    "Interesting! While carrier delays predominate starting in the morning, by afternoon NAS delays are the most common type."
   ]
  },
  {
   "cell_type": "code",
   "execution_count": null,
   "metadata": {},
   "outputs": [],
   "source": []
  },
  {
   "cell_type": "markdown",
   "metadata": {},
   "source": [
    "### Talk about some of the relationships you observed in this part of the investigation. How did the feature(s) of interest vary with other features in the dataset?\n",
    "\n",
    "> Your answer here!\n",
    "\n",
    "### Did you observe any interesting relationships between the other features (not the main feature(s) of interest)?\n",
    "\n",
    "> Your answer here!"
   ]
  },
  {
   "cell_type": "markdown",
   "metadata": {},
   "source": [
    "## Multivariate Exploration\n",
    "\n",
    "> Create plots of three or more variables to investigate your data even\n",
    "further. Make sure that your investigations are justified, and follow from\n",
    "your work in the previous sections."
   ]
  },
  {
   "cell_type": "code",
   "execution_count": null,
   "metadata": {},
   "outputs": [],
   "source": []
  },
  {
   "cell_type": "markdown",
   "metadata": {},
   "source": [
    "### Talk about some of the relationships you observed in this part of the investigation. Were there features that strengthened each other in terms of looking at your feature(s) of interest?\n",
    "\n",
    "> Your answer here!\n",
    "\n",
    "### Were there any interesting or surprising interactions between features?\n",
    "\n",
    "> Your answer here!"
   ]
  },
  {
   "cell_type": "markdown",
   "metadata": {},
   "source": [
    "> At the end of your report, make sure that you export the notebook as an\n",
    "html file from the `File > Download as... > HTML` menu. Make sure you keep\n",
    "track of where the exported file goes, so you can put it in the same folder\n",
    "as this notebook for project submission. Also, make sure you remove all of\n",
    "the quote-formatted guide notes like this one before you finish your report!"
   ]
  },
  {
   "cell_type": "code",
   "execution_count": null,
   "metadata": {},
   "outputs": [],
   "source": []
  }
 ],
 "metadata": {
  "kernelspec": {
   "display_name": "Python 3",
   "language": "python",
   "name": "python3"
  },
  "language_info": {
   "codemirror_mode": {
    "name": "ipython",
    "version": 3
   },
   "file_extension": ".py",
   "mimetype": "text/x-python",
   "name": "python",
   "nbconvert_exporter": "python",
   "pygments_lexer": "ipython3",
   "version": "3.8.8"
  }
 },
 "nbformat": 4,
 "nbformat_minor": 2
}
